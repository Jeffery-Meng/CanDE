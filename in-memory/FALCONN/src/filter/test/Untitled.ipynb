{
 "cells": [
  {
   "cell_type": "code",
   "execution_count": 1,
   "id": "9539d69b",
   "metadata": {},
   "outputs": [],
   "source": [
    "import numpy as np\n",
    "from scipy.stats import norm\n",
    "import struct\n",
    "from math import *"
   ]
  },
  {
   "cell_type": "code",
   "execution_count": 2,
   "id": "4454cb4d",
   "metadata": {},
   "outputs": [],
   "source": [
    "def fvecs_read(filename, c_contiguous=True):\n",
    "    fv = np.fromfile(filename, dtype=np.float32)\n",
    "    if fv.size == 0:\n",
    "        return np.zeros((0, 0))\n",
    "    dim = fv.view(np.int32)[0]\n",
    "    assert dim > 0\n",
    "    fv = fv.reshape(-1, 1 + dim)\n",
    "    if not all(fv.view(np.int32)[:, 0] == dim):\n",
    "        raise IOError(\"Non-uniform vector sizes in \" + filename)\n",
    "    fv = fv[:, 1:]\n",
    "    if c_contiguous:\n",
    "        fv = fv.copy()\n",
    "    return fv"
   ]
  },
  {
   "cell_type": "code",
   "execution_count": 5,
   "id": "7004fca2",
   "metadata": {},
   "outputs": [],
   "source": [
    "data = fvecs_read('/media/mydrive/ann-codes/in-memory/EXPERIMENTS/hepmass/hepmass_data.fvecs')\n"
   ]
  },
  {
   "cell_type": "code",
   "execution_count": 4,
   "id": "66bf865a",
   "metadata": {},
   "outputs": [],
   "source": [
    "kernels = fvecs_read(\"eigenvalues/hepmass_kernels.fvecs\")"
   ]
  },
  {
   "cell_type": "code",
   "execution_count": 45,
   "id": "14e669c3",
   "metadata": {},
   "outputs": [
    {
     "data": {
      "text/plain": [
       "array([ 4.37828159,  2.36529636,  1.73236978,  4.14802265,  1.7319783 ,\n",
       "        4.48261786,  3.93391538,  2.75859022,  1.73145008,  0.75426072,\n",
       "        4.63933516,  2.60229445,  1.73200655,  0.86064863,  5.73173523,\n",
       "        2.43836856,  1.73273754,  1.22633111,  5.86636686,  2.28221679,\n",
       "        1.73273993,  1.74312329,  7.29342031,  9.35725307, 15.55812836,\n",
       "        5.27731323,  4.61318254])"
      ]
     },
     "execution_count": 45,
     "metadata": {},
     "output_type": "execute_result"
    }
   ],
   "source": [
    "max_vals"
   ]
  },
  {
   "cell_type": "code",
   "execution_count": 14,
   "id": "2d9b4040",
   "metadata": {},
   "outputs": [],
   "source": [
    "min_vals = np.zeros(data.shape[1])\n",
    "max_vals = np.zeros(data.shape[1])\n",
    "for i in range(data.shape[1]):\n",
    "    min_vals[i] = np.min(data[:,i])\n",
    "    max_vals[i] = np.max(data[:,i])"
   ]
  },
  {
   "cell_type": "code",
   "execution_count": 46,
   "id": "32897ed0",
   "metadata": {},
   "outputs": [
    {
     "data": {
      "text/plain": [
       "array([-0.13756947, -0.39660752, -0.41673905, ...,  0.10477781,\n",
       "       -0.09775864, -0.06772137], dtype=float32)"
      ]
     },
     "execution_count": 46,
     "metadata": {},
     "output_type": "execute_result"
    }
   ],
   "source": [
    "np.mean(data,axis=1)"
   ]
  },
  {
   "cell_type": "code",
   "execution_count": 18,
   "id": "54fac940",
   "metadata": {},
   "outputs": [],
   "source": [
    "gtfile = \"/media/mydrive/ann-codes/in-memory/EXPERIMENTS/hepmass/hepmass_gnd.txt\"\n",
    "result = []\n",
    "with open(gtfile, \"r\") as fin:\n",
    "    for line in fin.readlines()[1:]:\n",
    "        line_s = [int(x) for x in line.split()[1:51]]\n",
    "        line_s.sort()\n",
    "        result.append(line_s)\n"
   ]
  },
  {
   "cell_type": "code",
   "execution_count": 21,
   "id": "862fe561",
   "metadata": {},
   "outputs": [],
   "source": [
    "def gt_read(filename):\n",
    "    fv = np.fromtxt(filename, dtype=np.int32)\n",
    "    if fv.size == 0:\n",
    "        return np.zeros((0, 0))\n",
    "    dim = fv[0]\n",
    "    assert dim > 0\n",
    "    fv = fv.reshape(-1, 1 + dim)\n",
    "    fv = fv[:, 1:]\n",
    "    return fv"
   ]
  },
  {
   "cell_type": "code",
   "execution_count": 14,
   "id": "c748cbe8",
   "metadata": {},
   "outputs": [
    {
     "data": {
      "text/plain": [
       "(None, [1, 2, 2, 3, 3, 4, 4, 5, 43])"
      ]
     },
     "execution_count": 14,
     "metadata": {},
     "output_type": "execute_result"
    }
   ],
   "source": [
    "a = [1,2,3,4,5,43,2,3,4]\n",
    "a.sort(), a"
   ]
  },
  {
   "cell_type": "code",
   "execution_count": 24,
   "id": "44ad9e21",
   "metadata": {},
   "outputs": [],
   "source": [
    "for i in range(queries.shape[0]):\n",
    "    query_new[i] = queries[i]-median_vals"
   ]
  },
  {
   "cell_type": "code",
   "execution_count": 25,
   "id": "8c230861",
   "metadata": {},
   "outputs": [],
   "source": [
    "def to_fvecs(filename, data):\n",
    "    with open(filename, 'wb') as fp:\n",
    "        for y in data:\n",
    "            d = struct.pack('I', y.size)\t\n",
    "            fp.write(d)\n",
    "            for x in y:\n",
    "                a = struct.pack('f', x)\n",
    "                fp.write(a)"
   ]
  },
  {
   "cell_type": "code",
   "execution_count": 28,
   "id": "4db705e0",
   "metadata": {},
   "outputs": [],
   "source": [
    "to_fvecs('hepmass/hepmass_data_shift.fvecs',data_new)"
   ]
  },
  {
   "cell_type": "code",
   "execution_count": 29,
   "id": "96a3b813",
   "metadata": {},
   "outputs": [],
   "source": [
    "to_fvecs('hepmass/hepmass_queries_shift.fvecs',query_new)"
   ]
  },
  {
   "cell_type": "code",
   "execution_count": 39,
   "id": "74b0244c",
   "metadata": {},
   "outputs": [],
   "source": [
    "norms = []\n",
    "for i in range(data_new.shape[0]):\n",
    "    norms.append(norm(data[i]))"
   ]
  },
  {
   "cell_type": "code",
   "execution_count": 40,
   "id": "3fdbf368",
   "metadata": {},
   "outputs": [],
   "source": [
    "norms = np.array(norms)"
   ]
  },
  {
   "cell_type": "code",
   "execution_count": 47,
   "id": "9e644fae",
   "metadata": {},
   "outputs": [
    {
     "data": {
      "text/plain": [
       "7.640909568438531"
      ]
     },
     "execution_count": 47,
     "metadata": {},
     "output_type": "execute_result"
    }
   ],
   "source": [
    "np.min(norms)**2"
   ]
  },
  {
   "cell_type": "code",
   "execution_count": 6,
   "id": "f524e19a",
   "metadata": {},
   "outputs": [
    {
     "data": {
      "text/plain": [
       "array([-0.89466774, -0.09673052, -0.32803825, -1.0413734 ,  0.94685996,\n",
       "       -1.0542208 , -1.3889791 ,  2.1153617 , -1.0265902 ,  0.7542607 ,\n",
       "       -0.85001504,  1.1747456 ,  0.67547923,  0.86064863, -1.8324926 ,\n",
       "        2.297373  ,  1.3219651 , -0.8154401 , -1.1588753 ,  0.7852737 ,\n",
       "       -1.5245442 , -0.5736825 , -0.67298776, -1.2209444 , -0.32647082,\n",
       "        0.6945014 , -0.5347921 ], dtype=float32)"
      ]
     },
     "execution_count": 6,
     "metadata": {},
     "output_type": "execute_result"
    }
   ],
   "source": [
    "data[0]"
   ]
  },
  {
   "cell_type": "code",
   "execution_count": 9,
   "id": "1947fbca",
   "metadata": {},
   "outputs": [
    {
     "data": {
      "text/plain": [
       "array([ 0.92586964, -1.0047346 ,  1.603905  ,  0.50205415, -1.6004517 ,\n",
       "       -0.00598356, -0.4449331 , -0.5952034 , -0.38873786,  0.7542607 ,\n",
       "       -0.8215476 ,  0.20731243, -0.36900055, -1.1619147 , -0.42505848,\n",
       "        0.6127136 ,  0.14904861, -0.8154401 ,  0.03102885,  2.1990516 ,\n",
       "        0.96908903, -0.5736825 , -0.62716657, -0.24764247, -0.28888276,\n",
       "       -1.1402473 ,  0.7278169 ], dtype=float32)"
      ]
     },
     "execution_count": 9,
     "metadata": {},
     "output_type": "execute_result"
    }
   ],
   "source": [
    "data[9999999]"
   ]
  },
  {
   "cell_type": "code",
   "execution_count": 55,
   "id": "c923abe8",
   "metadata": {},
   "outputs": [
    {
     "data": {
      "text/plain": [
       "13.53633739597253"
      ]
     },
     "execution_count": 55,
     "metadata": {},
     "output_type": "execute_result"
    }
   ],
   "source": [
    "-0.894668       -0.0967305      -0.328038       -1.04137        0.94686 -1.05422        -1.38898        2.11536 -1.02659        0.754261 -0.850015       1.17475 0.675479        0.860649        -1.83249        2.29737 1.32197 -0.81544        -1.15888        0.785274 -1.52454        -0.573682       -0.672988       -1.22094        -0.326471       0.694501        -0.534792\n",
    "-0.0489761      0.796555        -0.591829       -0.432567       0.871642        -1.05422        -1.8341 -1.03732        -0.818911-1.3258 -1.34772        0.329108        0.965478        0.860649        -1.09784        -1.74592        -1.66877        1.22633 -0.815118        -0.459886       0.0666335       -0.573682       -0.733975       -0.665127       1.06516 0.35225 -0.990444\n",
    "0.572581        0.528258        -0.340759       1.09702 0.0125966       -0.00598356     1.81088 -0.755018       1.57269 0.7542611.18748  1.00107 -0.290104       0.860649        0.223914        -1.88627        0.077578        -0.81544        0.218231        0.495875 0.101177        -0.573682       0.181036        0.732119        -0.299096       2.2045  1.59769\n",
    "0.92587 -1.00473        1.6039  0.502054        -1.60045        -0.00598356     -0.444933       -0.595203       -0.388738       0.754261 -0.821548       0.207312        -0.369001       -1.16191        -0.425058       0.612714        0.149049        -0.815440.0310288        2.19905 0.969089        -0.573682       -0.627167       -0.247642       -0.288883       -1.14025        0.727817\n"
   ]
  },
  {
   "cell_type": "code",
   "execution_count": 57,
   "id": "4f9af678",
   "metadata": {},
   "outputs": [
    {
     "data": {
      "text/plain": [
       "16.37896824912676"
      ]
     },
     "execution_count": 57,
     "metadata": {},
     "output_type": "execute_result"
    }
   ],
   "source": [
    "450671  688469  846183  941316  1033803 1242410 1510096 2478181 2490507 2499170 2570057 3468143 3546744 3710439 3786030  4224250 4249260 4304977 4444608 4498938 4521367 4538645 4610440 4648022 4975039 5052975 5143639 5175277 5571546  5791497 5920665 6030480 6377110 6631454 6634257 7355742 7652973 7870107 8366126 8378887 8539147 8631250 8704720  8740536 9142313 9202977 9241284 9466988 9588437 9854949\n",
    "31701   66913   169619  304034  580791  633722  694287  737010  804394  1003148 1191803 1346288 1541864 1788627 1921039  2228258 2305456 2342659 2354638 2410455 2470927 2781129 3467020 3565173 3798959 4141264 4216972 4345372 4419068  4577744 4847611 5102543 5192702 5414705 5459304 5730532 5827938 6078332 6300570 6594069 6665054 6857621 7169881  7191036 7460555 7594555 8841343 9255253 9298098 9532865\n",
    "209860  447840  890356  1021374 1088617 1225773 1249704 1392988 1638671 1738559 2081048 2202125 2256794 2392247 2650636  2726515 2848022 2933023 2933921 3062303 3085262 3158070 3428642 3868789 3916283 4600856 4633655 4915775 5071479  5513210 5677797 6019891 6070151 6219782 6419469 6637277 7022959 7184237 7686611 7740803 7980984 8240892 8526990  8596487 8782603 8829853 9183711 9228421 9514582 9932234"
   ]
  },
  {
   "cell_type": "code",
   "execution_count": 21,
   "id": "889d0720",
   "metadata": {},
   "outputs": [
    {
     "data": {
      "text/plain": [
       "[209860,\n",
       " 447840,\n",
       " 890356,\n",
       " 1021374,\n",
       " 1088617,\n",
       " 1225773,\n",
       " 1249704,\n",
       " 1392988,\n",
       " 1638671,\n",
       " 1738559,\n",
       " 2081048,\n",
       " 2202125,\n",
       " 2256794,\n",
       " 2392247,\n",
       " 2650636,\n",
       " 2726515,\n",
       " 2848022,\n",
       " 2933023,\n",
       " 2933921,\n",
       " 3062303,\n",
       " 3085262,\n",
       " 3158070,\n",
       " 3428642,\n",
       " 3868789,\n",
       " 3916283,\n",
       " 4600856,\n",
       " 4633655,\n",
       " 4915775,\n",
       " 5071479,\n",
       " 5513210,\n",
       " 5677797,\n",
       " 6019891,\n",
       " 6070151,\n",
       " 6219782,\n",
       " 6419469,\n",
       " 6637277,\n",
       " 7022959,\n",
       " 7184237,\n",
       " 7686611,\n",
       " 7740803,\n",
       " 7980984,\n",
       " 8240892,\n",
       " 8526990,\n",
       " 8596487,\n",
       " 8782603,\n",
       " 8829853,\n",
       " 9183711,\n",
       " 9228421,\n",
       " 9514582,\n",
       " 9932234]"
      ]
     },
     "execution_count": 21,
     "metadata": {},
     "output_type": "execute_result"
    }
   ],
   "source": [
    "result[49]"
   ]
  },
  {
   "cell_type": "code",
   "execution_count": 59,
   "id": "f34de986",
   "metadata": {},
   "outputs": [
    {
     "data": {
      "text/plain": [
       "23.98044741354649"
      ]
     },
     "execution_count": 59,
     "metadata": {},
     "output_type": "execute_result"
    }
   ],
   "source": [
    "np.min(norms)**2*(1.21**6)"
   ]
  },
  {
   "cell_type": "code",
   "execution_count": 60,
   "id": "a061afc3",
   "metadata": {},
   "outputs": [
    {
     "data": {
      "text/plain": [
       "29.016341370391252"
      ]
     },
     "execution_count": 60,
     "metadata": {},
     "output_type": "execute_result"
    }
   ],
   "source": [
    "np.min(norms)**2*(1.21**7)"
   ]
  },
  {
   "cell_type": "code",
   "execution_count": 61,
   "id": "c1cd4ba0",
   "metadata": {},
   "outputs": [
    {
     "data": {
      "text/plain": [
       "35.10977305817341"
      ]
     },
     "execution_count": 61,
     "metadata": {},
     "output_type": "execute_result"
    }
   ],
   "source": [
    "np.min(norms)**2*(1.21**8)"
   ]
  },
  {
   "cell_type": "code",
   "execution_count": 62,
   "id": "6762146d",
   "metadata": {},
   "outputs": [
    {
     "data": {
      "text/plain": [
       "42.48282540038983"
      ]
     },
     "execution_count": 62,
     "metadata": {},
     "output_type": "execute_result"
    }
   ],
   "source": [
    "np.min(norms)**2*(1.21**9)"
   ]
  },
  {
   "cell_type": "code",
   "execution_count": 73,
   "id": "567622b3",
   "metadata": {},
   "outputs": [
    {
     "data": {
      "text/plain": [
       "38.87754748561039"
      ]
     },
     "execution_count": 73,
     "metadata": {},
     "output_type": "execute_result"
    }
   ],
   "source": [
    "np.percentile(norms,90)**2"
   ]
  },
  {
   "cell_type": "code",
   "execution_count": 74,
   "id": "9b0f7422",
   "metadata": {},
   "outputs": [],
   "source": [
    "distances = np.loadtxt(\"result_distances.txt\")"
   ]
  },
  {
   "cell_type": "code",
   "execution_count": 75,
   "id": "81f474d2",
   "metadata": {},
   "outputs": [
    {
     "data": {
      "text/plain": [
       "(1000, 3)"
      ]
     },
     "execution_count": 75,
     "metadata": {},
     "output_type": "execute_result"
    }
   ],
   "source": [
    "distances.shape"
   ]
  },
  {
   "cell_type": "code",
   "execution_count": 77,
   "id": "a0d76e6b",
   "metadata": {},
   "outputs": [],
   "source": [
    "distances = distances.reshape((100,10,3))"
   ]
  },
  {
   "cell_type": "code",
   "execution_count": 93,
   "id": "00fd00d4",
   "metadata": {},
   "outputs": [],
   "source": [
    "def gen_avg_distances(distances,k):\n",
    "    avg_distances = np.zeros(distances.shape[1])\n",
    "    for i in range(distances.shape[1]):\n",
    "        avg_distances[i] = np.mean(distances[:,i,k])\n",
    "    return avg_distances"
   ]
  },
  {
   "cell_type": "code",
   "execution_count": 97,
   "id": "473a59a7",
   "metadata": {},
   "outputs": [],
   "source": [
    "near_dis = gen_avg_distances(distances,0)"
   ]
  },
  {
   "cell_type": "code",
   "execution_count": 98,
   "id": "7d1a93bc",
   "metadata": {},
   "outputs": [],
   "source": [
    "far_dis = gen_avg_distances(distances,1)"
   ]
  },
  {
   "cell_type": "code",
   "execution_count": 123,
   "id": "8174751e",
   "metadata": {},
   "outputs": [],
   "source": [
    "def gen_widths(near_dis,far_dis):\n",
    "    width = np.zeros(near_dis.shape[0])\n",
    "    for i in range(near_dis.shape[0]):\n",
    "        probs = []\n",
    "        for w in np.arange(1,10,0.05):\n",
    "            probs.append(log(1/gen_pro_gauss(near_dis[i],w))/log(1/gen_pro_gauss(far_dis[i],w)))\n",
    "        \n",
    "        probs = np.array(probs)\n",
    "        width[i] = 1+ 0.05*np.argmin(probs)\n",
    "    return width"
   ]
  },
  {
   "cell_type": "code",
   "execution_count": 124,
   "id": "70fc1c8e",
   "metadata": {},
   "outputs": [
    {
     "data": {
      "text/plain": [
       "array([6.15, 6.1 , 6.05, 6.  , 5.95, 5.9 , 5.9 , 5.85, 5.85, 5.45])"
      ]
     },
     "execution_count": 124,
     "metadata": {},
     "output_type": "execute_result"
    }
   ],
   "source": [
    "gen_widths(near_dis,far_dis)"
   ]
  },
  {
   "cell_type": "code",
   "execution_count": 120,
   "id": "c9cb319b",
   "metadata": {},
   "outputs": [
    {
     "data": {
      "text/plain": [
       "0.9515694253132632"
      ]
     },
     "execution_count": 120,
     "metadata": {},
     "output_type": "execute_result"
    }
   ],
   "source": [
    "log(1/gen_pro_gauss(5.59309409,6.15))/log(1/gen_pro_gauss(6.08832809,6.15))"
   ]
  },
  {
   "cell_type": "code",
   "execution_count": 129,
   "id": "bdf1ab8c",
   "metadata": {},
   "outputs": [
    {
     "data": {
      "text/plain": [
       "array([[5.71328766, 6.14544642, 6.58403447],\n",
       "       [5.34304696, 6.05422351, 6.71027506],\n",
       "       [5.19003638, 5.9474021 , 6.77842015],\n",
       "       [4.99153281, 5.84792997, 6.84114919],\n",
       "       [4.91599461, 5.77355242, 6.8232917 ],\n",
       "       [4.88412192, 5.7147323 , 6.75983445],\n",
       "       [4.85324555, 5.67296912, 6.73220515],\n",
       "       [4.87661865, 5.65981471, 6.71358534],\n",
       "       [4.93959825, 5.66166431, 6.60268881],\n",
       "       [4.65183481, 4.73284051, 5.09638165]])"
      ]
     },
     "execution_count": 129,
     "metadata": {},
     "output_type": "execute_result"
    }
   ],
   "source": [
    "distances[-1]"
   ]
  },
  {
   "cell_type": "code",
   "execution_count": 63,
   "id": "bec9c842",
   "metadata": {},
   "outputs": [
    {
     "data": {
      "text/plain": [
       "558.1427879354451"
      ]
     },
     "execution_count": 63,
     "metadata": {},
     "output_type": "execute_result"
    }
   ],
   "source": [
    "np.max(norms)**2"
   ]
  },
  {
   "cell_type": "code",
   "execution_count": 33,
   "id": "29f62938",
   "metadata": {},
   "outputs": [
    {
     "data": {
      "text/plain": [
       "4.015153557172142"
      ]
     },
     "execution_count": 33,
     "metadata": {},
     "output_type": "execute_result"
    }
   ],
   "source": [
    "np.min(norms)"
   ]
  },
  {
   "cell_type": "code",
   "execution_count": 34,
   "id": "65f23a04",
   "metadata": {},
   "outputs": [
    {
     "data": {
      "text/plain": [
       "21.559872096644945"
      ]
     },
     "execution_count": 34,
     "metadata": {},
     "output_type": "execute_result"
    }
   ],
   "source": [
    "np.max(norms)"
   ]
  },
  {
   "cell_type": "code",
   "execution_count": 56,
   "id": "156c7fa0",
   "metadata": {},
   "outputs": [
    {
     "data": {
      "text/plain": [
       "(array([1., 0., 1., ..., 0., 0., 1.]),\n",
       " array([ 2.7642195,  2.7663057,  2.7683916, ..., 23.620874 , 23.62296  ,\n",
       "        23.625046 ], dtype=float32),\n",
       " <BarContainer object of 10000 artists>)"
      ]
     },
     "execution_count": 56,
     "metadata": {},
     "output_type": "execute_result"
    },
    {
     "data": {
      "image/png": "[encoded data removed]",
      "text/plain": [
       "<Figure size 432x288 with 1 Axes>"
      ]
     },
     "metadata": {
      "needs_background": "light"
     },
     "output_type": "display_data"
    }
   ],
   "source": [
    "plt.hist(norms,bins = 10000)"
   ]
  },
  {
   "cell_type": "code",
   "execution_count": null,
   "id": "71c78bcf",
   "metadata": {},
   "outputs": [],
   "source": []
  },
  {
   "cell_type": "code",
   "execution_count": null,
   "id": "09def610",
   "metadata": {},
   "outputs": [],
   "source": []
  },
  {
   "cell_type": "code",
   "execution_count": null,
   "id": "8cdd7261",
   "metadata": {},
   "outputs": [],
   "source": []
  },
  {
   "cell_type": "code",
   "execution_count": 9,
   "id": "5c978eaa",
   "metadata": {},
   "outputs": [
    {
     "ename": "NameError",
     "evalue": "name 'config' is not defined",
     "output_type": "error",
     "traceback": [
      "\u001b[0;31m---------------------------------------------------------------------------\u001b[0m",
      "\u001b[0;31mNameError\u001b[0m                                 Traceback (most recent call last)",
      "\u001b[0;32m/tmp/ipykernel_10448/2068950045.py\u001b[0m in \u001b[0;36m<module>\u001b[0;34m\u001b[0m\n\u001b[1;32m      1\u001b[0m \u001b[0mdataset\u001b[0m \u001b[0;34m=\u001b[0m \u001b[0;34m\"siftC\"\u001b[0m\u001b[0;34m\u001b[0m\u001b[0;34m\u001b[0m\u001b[0m\n\u001b[0;32m----> 2\u001b[0;31m \u001b[0mraw_file\u001b[0m \u001b[0;34m=\u001b[0m \u001b[0mconfig\u001b[0m\u001b[0;34m[\u001b[0m\u001b[0;34m\"data filename\"\u001b[0m\u001b[0;34m]\u001b[0m\u001b[0;34m\u001b[0m\u001b[0;34m\u001b[0m\u001b[0m\n\u001b[0m\u001b[1;32m      3\u001b[0m \u001b[0mprint\u001b[0m\u001b[0;34m(\u001b[0m\u001b[0;34m\"Reading data...\"\u001b[0m\u001b[0;34m)\u001b[0m\u001b[0;34m\u001b[0m\u001b[0;34m\u001b[0m\u001b[0m\n\u001b[1;32m      4\u001b[0m \u001b[0mdata\u001b[0m \u001b[0;34m=\u001b[0m \u001b[0mfvecs_read\u001b[0m\u001b[0;34m(\u001b[0m\u001b[0mraw_file\u001b[0m\u001b[0;34m)\u001b[0m\u001b[0;34m.\u001b[0m\u001b[0mastype\u001b[0m\u001b[0;34m(\u001b[0m\u001b[0mnp\u001b[0m\u001b[0;34m.\u001b[0m\u001b[0mfloat64\u001b[0m\u001b[0;34m)\u001b[0m\u001b[0;34m\u001b[0m\u001b[0;34m\u001b[0m\u001b[0m\n\u001b[1;32m      5\u001b[0m \u001b[0mprint\u001b[0m\u001b[0;34m(\u001b[0m\u001b[0;34m\"Read data: \"\u001b[0m\u001b[0;34m,\u001b[0m \u001b[0mdata\u001b[0m\u001b[0;34m.\u001b[0m\u001b[0mshape\u001b[0m\u001b[0;34m)\u001b[0m\u001b[0;34m\u001b[0m\u001b[0;34m\u001b[0m\u001b[0m\n",
      "\u001b[0;31mNameError\u001b[0m: name 'config' is not defined"
     ]
    }
   ],
   "source": [
    "dataset = \"siftC\"\n",
    "raw_file = config[\"data filename\"]\n",
    "print(\"Reading data...\")\n",
    "data = fvecs_read(raw_file).astype(np.float64)\n",
    "print(\"Read data: \", data.shape)\n",
    "query_file = config[\"query filename\"]\n",
    "queries = fvecs_read(query_file)\n",
    "print(\"Read queries: \", queries.shape)\n",
    "kernel_file = config[\"kernel filename\"]\n",
    "kernels = fvecs_read(kernel_file)\n",
    "qn = config[\"testing size\"]\n",
    "kernels = kernels.reshape((qn, dim, dim)).astype(np.float64)\n",
    "print(\"Read kernels: \", kernels.shape)\n",
    "\n",
    "hash_table_paras = config[\"hash table parameters\"]\n",
    "partitions = [sqrt(pp[\"upper\"]) for pp in hash_table_paras]\n",
    "partitions = np.array(partitions)\n",
    "num_partitions = len(partitions)\n",
    "alpha_rot = np.array(partitions) / dimP2 ** (1/6)\n",
    "\n",
    "n = data.shape[0]"
   ]
  },
  {
   "cell_type": "code",
   "execution_count": null,
   "id": "10bf123b",
   "metadata": {},
   "outputs": [],
   "source": []
  },
  {
   "cell_type": "code",
   "execution_count": 13,
   "id": "0436e822",
   "metadata": {},
   "outputs": [],
   "source": [
    "kernels = fvecs_read(\"eigenvalues/hepmass_kernels.fvecs\")"
   ]
  },
  {
   "cell_type": "code",
   "execution_count": null,
   "id": "d0395b6c",
   "metadata": {},
   "outputs": [],
   "source": [
    "\n",
    "alpha_rot = np.array(partitions) / dimP2 ** (1/6)"
   ]
  },
  {
   "cell_type": "code",
   "execution_count": 84,
   "id": "ff6bcbdb",
   "metadata": {},
   "outputs": [],
   "source": [
    "def gen_pro_gauss(s,w):\n",
    "    s = sqrt(s)\n",
    "    return 1-2*norm.cdf(-w/s)-2/(sqrt(2*pi)*w/s)*(1-exp(-(w*w/(2*(s*s)))))"
   ]
  },
  {
   "cell_type": "code",
   "execution_count": 31,
   "id": "0aeea098",
   "metadata": {},
   "outputs": [
    {
     "data": {
      "text/plain": [
       "5.1830497"
      ]
     },
     "execution_count": 31,
     "metadata": {},
     "output_type": "execute_result"
    }
   ],
   "source": [
    "norm(queries[20])"
   ]
  },
  {
   "cell_type": "code",
   "execution_count": 21,
   "id": "64c0c2a8",
   "metadata": {},
   "outputs": [
    {
     "data": {
      "text/plain": [
       "(2700, 27)"
      ]
     },
     "execution_count": 21,
     "metadata": {},
     "output_type": "execute_result"
    }
   ],
   "source": [
    "kernels.shape"
   ]
  },
  {
   "cell_type": "code",
   "execution_count": 18,
   "id": "38296d8d",
   "metadata": {},
   "outputs": [
    {
     "data": {
      "text/plain": [
       "1.2386227"
      ]
     },
     "execution_count": 18,
     "metadata": {},
     "output_type": "execute_result"
    }
   ],
   "source": [
    "kernels[17]@queries[17]"
   ]
  },
  {
   "cell_type": "code",
   "execution_count": null,
   "id": "76ef3bfb",
   "metadata": {},
   "outputs": [],
   "source": []
  }
 ],
 "metadata": {
  "interpreter": {
   "hash": "31f2aee4e71d21fbe5cf8b01ff0e069b9275f58929596ceb00d14d90e3e16cd6"
  },
  "kernelspec": {
   "display_name": "Python 3 (ipykernel)",
   "language": "python",
   "name": "python3"
  },
  "language_info": {
   "codemirror_mode": {
    "name": "ipython",
    "version": 3
   },
   "file_extension": ".py",
   "mimetype": "text/x-python",
   "name": "python",
   "nbconvert_exporter": "python",
   "pygments_lexer": "ipython3",
   "version": "3.7.10"
  }
 },
 "nbformat": 4,
 "nbformat_minor": 5
}
