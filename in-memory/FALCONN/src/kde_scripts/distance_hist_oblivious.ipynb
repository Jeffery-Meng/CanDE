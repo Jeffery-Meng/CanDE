{
 "cells": [
  {
   "cell_type": "code",
   "execution_count": 5,
   "metadata": {},
   "outputs": [
    {
     "data": {
      "text/plain": [
       "{'divide': 'ignore', 'over': 'ignore', 'under': 'ignore', 'invalid': 'ignore'}"
      ]
     },
     "execution_count": 5,
     "metadata": {},
     "output_type": "execute_result"
    }
   ],
   "source": [
    "import json\n",
    "with open(\"/media/mydrive/distribution/ann-codes/in-memory/EXPERIMENTS/random/ann_cd2.json\") as fin:\n",
    "    config = json.load(fin)\n",
    "\n",
    "import numpy as np\n",
    "import pandas as pd\n",
    "import matplotlib.pyplot as plt\n",
    "from fvecs import *\n",
    "\n",
    "dataset = \"random\"\n",
    "exp_path = \"/media/mydrive/distribution/ann-codes/in-memory/EXPERIMENTS/\" + dataset\n",
    "conf_path = exp_path + \"/ann_cd2.json\"\n",
    "l = 50\n",
    "\n",
    "with open(conf_path) as fin:\n",
    "    conf = json.load(fin)\n",
    "x_bins = np.arange(*conf[\"histogram bins\"])[:-1]\n",
    "distance = fvecs_read(exp_path + \"/distances.fvecs\")\n",
    "mre = np.zeros(len(x_bins))\n",
    "np.seterr(all=\"ignore\")"
   ]
  },
  {
   "cell_type": "code",
   "execution_count": 51,
   "metadata": {},
   "outputs": [],
   "source": [
    "from read_candidate import load_candidate\n",
    "\n",
    "def recall_prob(table_probs):\n",
    "    prod = 1.0\n",
    "    for p in table_probs:\n",
    "        prod *= 1 - p\n",
    "    return 1.0 - prod\n",
    "\n",
    "def estimate(query, bins):\n",
    "    candiate_tables = load_candidate(query, conf_path)[:l]\n",
    "    flat = []\n",
    "    for ct in candiate_tables:\n",
    "        flat.extend(ct)\n",
    "    counters = np.zeros(1000000, dtype=np.int32)\n",
    "    first_occur = np.full(1000000, -1, dtype=np.int32)\n",
    "    for table, ct in enumerate(candiate_tables):\n",
    "        for cand in ct:\n",
    "            counters[cand] += 1\n",
    "            if first_occur[cand] == -1:\n",
    "                first_occur[cand] = table\n",
    "    candidates = set(flat)\n",
    "\n",
    "    dist_f = pd.DataFrame({\"id\": list(range(1000000)), \"dist\": distance[query, :],\n",
    "            \"count\": counters, \"table\": first_occur})\n",
    "    distance_group, bins = pd.cut(dist_f[\"dist\"], bins=np.arange(*bins), retbins = True)\n",
    "    dist_f[\"dist group\"] = distance_group\n",
    "    cand_f = dist_f.loc[candidates]\n",
    "    gt_count = dist_f.groupby(\"dist group\").count()\n",
    "    gt_count = np.array(gt_count[\"id\"])\n",
    "    cand_f = cand_f.groupby(\"dist group\")\n",
    "    cand_count = cand_f.count()\n",
    "    cand_count = np.array(cand_count[\"id\"])\n",
    "    recall_qh = np.zeros(len(cand_count), dtype=np.float64)\n",
    "    \n",
    "    for bin_id, cand_idx in enumerate(cand_f.groups):\n",
    "        try:\n",
    "            cand_in_bin = cand_f.get_group(cand_idx)\n",
    "        except KeyError:\n",
    "            continue\n",
    "        recalls = np.zeros(l)\n",
    "        for table in range(l):\n",
    "            effective_rows = (cand_in_bin[\"count\"] > 1) | (cand_in_bin[\"table\"] != table)\n",
    "            cand_effective = set(cand_in_bin[effective_rows][\"id\"])\n",
    "            if len(cand_effective) == 0:\n",
    "                continue\n",
    "            recalls[table] = len(cand_effective & set(candiate_tables[table])) / len(cand_effective)\n",
    "        recall_qh[bin_id] = recall_prob(recalls)\n",
    "    return gt_count, cand_count / recall_qh\n",
    "    \n"
   ]
  },
  {
   "cell_type": "code",
   "execution_count": 52,
   "metadata": {},
   "outputs": [
    {
     "name": "stdout",
     "output_type": "stream",
     "text": [
      "0\n"
     ]
    },
    {
     "ename": "UnboundLocalError",
     "evalue": "local variable 'cand_effective' referenced before assignment",
     "output_type": "error",
     "traceback": [
      "\u001b[0;31m---------------------------------------------------------------------------\u001b[0m",
      "\u001b[0;31mUnboundLocalError\u001b[0m                         Traceback (most recent call last)",
      "\u001b[0;32m/tmp/ipykernel_25651/2840263662.py\u001b[0m in \u001b[0;36m<module>\u001b[0;34m\u001b[0m\n\u001b[1;32m      1\u001b[0m \u001b[0;32mfor\u001b[0m \u001b[0mqid\u001b[0m \u001b[0;32min\u001b[0m \u001b[0mrange\u001b[0m\u001b[0;34m(\u001b[0m\u001b[0;36m1000\u001b[0m\u001b[0;34m)\u001b[0m\u001b[0;34m:\u001b[0m\u001b[0;34m\u001b[0m\u001b[0;34m\u001b[0m\u001b[0m\n\u001b[1;32m      2\u001b[0m     \u001b[0mprint\u001b[0m\u001b[0;34m(\u001b[0m\u001b[0mqid\u001b[0m\u001b[0;34m)\u001b[0m\u001b[0;34m\u001b[0m\u001b[0;34m\u001b[0m\u001b[0m\n\u001b[0;32m----> 3\u001b[0;31m     \u001b[0mgt\u001b[0m\u001b[0;34m,\u001b[0m \u001b[0mesti\u001b[0m \u001b[0;34m=\u001b[0m \u001b[0mestimate\u001b[0m\u001b[0;34m(\u001b[0m\u001b[0mqid\u001b[0m\u001b[0;34m,\u001b[0m \u001b[0mconf\u001b[0m\u001b[0;34m[\u001b[0m\u001b[0;34m\"histogram bins\"\u001b[0m\u001b[0;34m]\u001b[0m\u001b[0;34m)\u001b[0m\u001b[0;34m\u001b[0m\u001b[0;34m\u001b[0m\u001b[0m\n\u001b[0m\u001b[1;32m      4\u001b[0m     \u001b[0mesti\u001b[0m\u001b[0;34m[\u001b[0m\u001b[0mnp\u001b[0m\u001b[0;34m.\u001b[0m\u001b[0misnan\u001b[0m\u001b[0;34m(\u001b[0m\u001b[0mesti\u001b[0m\u001b[0;34m)\u001b[0m\u001b[0;34m]\u001b[0m \u001b[0;34m=\u001b[0m \u001b[0;36m0\u001b[0m\u001b[0;34m\u001b[0m\u001b[0;34m\u001b[0m\u001b[0m\n\u001b[1;32m      5\u001b[0m     \u001b[0mesti\u001b[0m\u001b[0;34m[\u001b[0m\u001b[0mnp\u001b[0m\u001b[0;34m.\u001b[0m\u001b[0misinf\u001b[0m\u001b[0;34m(\u001b[0m\u001b[0mesti\u001b[0m\u001b[0;34m)\u001b[0m\u001b[0;34m]\u001b[0m \u001b[0;34m=\u001b[0m \u001b[0;36m0\u001b[0m\u001b[0;34m\u001b[0m\u001b[0;34m\u001b[0m\u001b[0m\n",
      "\u001b[0;32m/tmp/ipykernel_25651/2376997811.py\u001b[0m in \u001b[0;36mestimate\u001b[0;34m(query, bins)\u001b[0m\n\u001b[1;32m     41\u001b[0m         \u001b[0;32mfor\u001b[0m \u001b[0mtable\u001b[0m \u001b[0;32min\u001b[0m \u001b[0mrange\u001b[0m\u001b[0;34m(\u001b[0m\u001b[0ml\u001b[0m\u001b[0;34m)\u001b[0m\u001b[0;34m:\u001b[0m\u001b[0;34m\u001b[0m\u001b[0;34m\u001b[0m\u001b[0m\n\u001b[1;32m     42\u001b[0m             \u001b[0meffective_rows\u001b[0m \u001b[0;34m=\u001b[0m \u001b[0;34m(\u001b[0m\u001b[0mcand_in_bin\u001b[0m\u001b[0;34m[\u001b[0m\u001b[0;34m\"count\"\u001b[0m\u001b[0;34m]\u001b[0m \u001b[0;34m>\u001b[0m \u001b[0;36m1\u001b[0m\u001b[0;34m)\u001b[0m \u001b[0;34m|\u001b[0m \u001b[0;34m(\u001b[0m\u001b[0mcand_in_bin\u001b[0m\u001b[0;34m[\u001b[0m\u001b[0;34m\"table\"\u001b[0m\u001b[0;34m]\u001b[0m \u001b[0;34m!=\u001b[0m \u001b[0mtable\u001b[0m\u001b[0;34m)\u001b[0m\u001b[0;34m\u001b[0m\u001b[0;34m\u001b[0m\u001b[0m\n\u001b[0;32m---> 43\u001b[0;31m             \u001b[0;32mif\u001b[0m \u001b[0mlen\u001b[0m\u001b[0;34m(\u001b[0m\u001b[0mcand_effective\u001b[0m\u001b[0;34m)\u001b[0m \u001b[0;34m==\u001b[0m \u001b[0;36m0\u001b[0m\u001b[0;34m:\u001b[0m\u001b[0;34m\u001b[0m\u001b[0;34m\u001b[0m\u001b[0m\n\u001b[0m\u001b[1;32m     44\u001b[0m                 \u001b[0;32mcontinue\u001b[0m\u001b[0;34m\u001b[0m\u001b[0;34m\u001b[0m\u001b[0m\n\u001b[1;32m     45\u001b[0m             \u001b[0mcand_effective\u001b[0m \u001b[0;34m=\u001b[0m \u001b[0mset\u001b[0m\u001b[0;34m(\u001b[0m\u001b[0mcand_in_bin\u001b[0m\u001b[0;34m[\u001b[0m\u001b[0meffective_rows\u001b[0m\u001b[0;34m]\u001b[0m\u001b[0;34m[\u001b[0m\u001b[0;34m\"id\"\u001b[0m\u001b[0;34m]\u001b[0m\u001b[0;34m)\u001b[0m\u001b[0;34m\u001b[0m\u001b[0;34m\u001b[0m\u001b[0m\n",
      "\u001b[0;31mUnboundLocalError\u001b[0m: local variable 'cand_effective' referenced before assignment"
     ]
    }
   ],
   "source": [
    "\n",
    "for qid in range(1000):\n",
    "    print(qid)\n",
    "    gt, esti = estimate(qid, conf[\"histogram bins\"])\n",
    "    esti[np.isnan(esti)] = 0\n",
    "    esti[np.isinf(esti)] = 0\n",
    "    plt.clf()\n",
    "    ax = plt.gca()\n",
    "    ax.plot(x_bins, gt, label=\"ground truth\")\n",
    "    ax.plot(x_bins, esti, label=\"estimated\")\n",
    "    ax.set_xlabel(\"distance\")\n",
    "    ax.set_ylabel(\"Number of points\")\n",
    "    ax.legend(loc=\"upper right\")\n",
    "    plt.savefig(\"/media/mydrive/distribution/ann-codes/in-memory/EXPERIMENTS/plots/{}_oblivious_{}.pdf\".format(\n",
    "            dataset, qid))\n",
    "    mre_na = np.abs(gt - esti) / gt\n",
    "    mre_na[np.isnan(mre_na)] = 0\n",
    "    mre += mre_na\n",
    "mre /= 1000\n",
    "mre"
   ]
  },
  {
   "cell_type": "code",
   "execution_count": 49,
   "metadata": {},
   "outputs": [
    {
     "data": {
      "text/plain": [
       "(array([    0,     0,     0,     0,     0,     0,     0,     0,     1,\n",
       "            0,     0,     1,     4,    10,    20,    28,    66,    86,\n",
       "          154,   262,   373,   630,  1053,  1529,  2166,  3203,  4419,\n",
       "         6177,  8451, 11031, 14662, 18565, 23202, 28528, 34129, 39913,\n",
       "        45858, 51295, 55898, 60014, 61996, 63777, 62905, 60951, 56857,\n",
       "        52660, 47143, 41002, 33947, 28103, 22278, 17217, 12806,  9202,\n",
       "         6375,  4267,  2840,  1761,   929,   586,   366,   162,    73,\n",
       "           48,    16,     5,     0,     0,     0]),\n",
       " array([           nan,            nan,            nan,            nan,\n",
       "                   nan,            nan,            nan,            nan,\n",
       "        1.00000000e+00,            nan,            nan, 1.00000000e+00,\n",
       "        4.00046986e+00, 1.01743636e+01, 2.00393069e+01, 2.73161439e+01,\n",
       "        6.57134219e+01, 8.64648171e+01, 1.51241856e+02, 2.63475219e+02,\n",
       "        3.73066536e+02, 6.33520132e+02, 1.05988840e+03, 1.52622800e+03,\n",
       "        2.15096025e+03, 3.18124895e+03, 4.40857158e+03, 6.18648261e+03,\n",
       "        8.44374947e+03, 1.10098400e+04, 1.46579952e+04, 1.86276300e+04,\n",
       "        2.32381618e+04, 2.85376497e+04, 3.41327165e+04, 3.99004756e+04,\n",
       "        4.57232554e+04, 5.12560310e+04, 5.57763007e+04, 5.97940442e+04,\n",
       "        6.19984495e+04, 6.38163337e+04, 6.26636951e+04, 6.09737978e+04,\n",
       "        5.70905087e+04, 5.33656543e+04, 4.72141299e+04, 4.08753058e+04,\n",
       "        3.39982832e+04, 2.83484485e+04, 2.23218045e+04, 1.69812656e+04,\n",
       "        1.28562529e+04, 9.34619999e+03, 6.60213646e+03, 4.32927126e+03,\n",
       "        2.98153074e+03, 1.83149236e+03, 9.41683840e+02, 5.72203249e+02,\n",
       "        4.07926928e+02, 1.71531667e+02, 1.69105925e+02, 4.48119987e+01,\n",
       "                   inf, 9.14285714e+00,            nan,            nan,\n",
       "                   nan]))"
      ]
     },
     "execution_count": 49,
     "metadata": {},
     "output_type": "execute_result"
    }
   ],
   "source": [
    "estimate(0, (1 , 1.7, 0.01))"
   ]
  },
  {
   "cell_type": "code",
   "execution_count": null,
   "metadata": {},
   "outputs": [],
   "source": []
  }
 ],
 "metadata": {
  "kernelspec": {
   "display_name": "Python 3.9.7 ('base')",
   "language": "python",
   "name": "python3"
  },
  "language_info": {
   "codemirror_mode": {
    "name": "ipython",
    "version": 3
   },
   "file_extension": ".py",
   "mimetype": "text/x-python",
   "name": "python",
   "nbconvert_exporter": "python",
   "pygments_lexer": "ipython3",
   "version": "3.9.7"
  },
  "orig_nbformat": 4,
  "vscode": {
   "interpreter": {
    "hash": "99f12870cbcc9ed8002e6786f6ad5b3d26a9d22e686c10367ab33bcbed1232a0"
   }
  }
 },
 "nbformat": 4,
 "nbformat_minor": 2
}
