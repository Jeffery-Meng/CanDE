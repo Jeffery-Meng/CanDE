{
 "cells": [
  {
   "cell_type": "code",
   "execution_count": 1,
   "metadata": {},
   "outputs": [],
   "source": [
    "%store -r"
   ]
  },
  {
   "cell_type": "code",
   "execution_count": 2,
   "metadata": {},
   "outputs": [
    {
     "name": "stdout",
     "output_type": "stream",
     "text": [
      "Stored variables and their in-db values:\n",
      "qh                           -> array([[-0.19359317,  0.504065  ,  0.9988805 , ...\n",
      "queries_selected             -> {4, 410, 597, 566, 279, 246, 602, 510}\n",
      "raw_hashes                   -> array([[ 1.5774433e-01,  6.3503647e-01,  1.0929040\n",
      "selected_data                -> [({131072, 425985, 983043, 524292, 131077, 655364,\n",
      "selected_q2d                 -> [          data      distance\n",
      "0            0  (1.3\n",
      "selected_qh                  -> [array([ 0.32263142,  0.6306272 ,  0.48695165,  0.\n",
      "selected_tables              -> [(0, 48, 26), (35, 0, 44), (31, 26, 47), (44, 6, 4\n"
     ]
    }
   ],
   "source": [
    "%store"
   ]
  },
  {
   "cell_type": "code",
   "execution_count": 30,
   "metadata": {},
   "outputs": [
    {
     "data": {
      "text/plain": [
       "{'data filename': '/media/mydrive/distribution/ann-codes/in-memory/EXPERIMENTS/random/random-train.fvecs',\n",
       " 'query filename': '/media/mydrive/distribution/ann-codes/in-memory/EXPERIMENTS/random/random-test.fvecs',\n",
       " 'dimension': 128,\n",
       " 'training size': 1000000,\n",
       " 'testing size': 1000,\n",
       " 'query mode': 'hashed queries',\n",
       " 'hash table width': 24,\n",
       " 'load index': False,\n",
       " 'index path': '/dev/null',\n",
       " 'number of partitions': 1,\n",
       " 'allow overwrite': True,\n",
       " 'compute ground truth': False,\n",
       " 'number of neighbors': 100,\n",
       " 'probes per table': 100,\n",
       " 'printing mode': {'id': True,\n",
       "  'table': True,\n",
       "  'bucket': True,\n",
       "  'distance': False},\n",
       " 'hash table parameters': [{'k': 9, 'l': 50, 'bucket width': 1.75}],\n",
       " 'query hash filename': '/media/mydrive/distribution/ann-codes/in-memory/EXPERIMENTS/random/query_hash.fvecs',\n",
       " 'candidate filename': '/media/mydrive/distribution/ann-codes/in-memory/EXPERIMENTS/random/candidates/ex2',\n",
       " 'kernel filename': '/media/mydrive/distribution/ann-codes/in-memory/EXPERIMENTS/random/weight.fvecs',\n",
       " 'summary path': '/media/mydrive/distribution/ann-codes/in-memory/EXPERIMENTS/random/summary/',\n",
       " 'ground truth file': '/media/mydrive/distribution/ann-codes/in-memory/EXPERIMENTS/random/gt.ivecs',\n",
       " 'distance file': '/media/mydrive/distribution/ann-codes/in-memory/EXPERIMENTS/random/distances.fvecs',\n",
       " 'eigenvalue filepath': '/media/mydrive/distribution/ann-codes/in-memory/EXPERIMENTS/mnist/gaussian_cdf.fvecs',\n",
       " 'probing sequence file': '/media/mydrive/distribution/ann-codes/in-memory/EXPERIMENTS/random/probing_sequence_v.ivecs',\n",
       " 'mp prob filename': '/media/mydrive/distribution/ann-codes/in-memory/EXPERIMENTS/random/mp_probs.fvecs',\n",
       " 'number of experiments': 1000,\n",
       " 'result filename': '/media/mydrive/distribution/ann-codes/in-memory/EXPERIMENTS/random/hash_funcs.fvecs'}"
      ]
     },
     "execution_count": 30,
     "metadata": {},
     "output_type": "execute_result"
    }
   ],
   "source": [
    "import json\n",
    "with open(\"/media/mydrive/distribution/ann-codes/in-memory/EXPERIMENTS/random/ann_cd2.json\") as fin:\n",
    "    config = json.load(fin)\n",
    "config"
   ]
  },
  {
   "cell_type": "code",
   "execution_count": 5,
   "metadata": {},
   "outputs": [],
   "source": [
    "from fvecs import *\n",
    "data = fvecs_read(config[\"data filename\"])"
   ]
  },
  {
   "cell_type": "code",
   "execution_count": 6,
   "metadata": {},
   "outputs": [
    {
     "data": {
      "text/plain": [
       "(0.99456745, 1.7277273)"
      ]
     },
     "execution_count": 6,
     "metadata": {},
     "output_type": "execute_result"
    }
   ],
   "source": [
    "import numpy as np\n",
    "distance = fvecs_read(config[\"distance file\"])\n",
    "np.min(distance), np.max(distance)"
   ]
  },
  {
   "cell_type": "code",
   "execution_count": 7,
   "metadata": {},
   "outputs": [
    {
     "data": {
      "text/plain": [
       "(1.0785445, 1.6850685)"
      ]
     },
     "execution_count": 7,
     "metadata": {},
     "output_type": "execute_result"
    }
   ],
   "source": [
    "d3 = distance[3,:]\n",
    "np.min(d3), np.max(d3)"
   ]
  },
  {
   "cell_type": "code",
   "execution_count": 9,
   "metadata": {},
   "outputs": [],
   "source": [
    "import pandas as pd\n",
    "dist_f = pd.DataFrame({\"id\": list(range(1000000)), \"dist\": d3})"
   ]
  },
  {
   "cell_type": "code",
   "execution_count": 13,
   "metadata": {},
   "outputs": [
    {
     "data": {
      "text/html": [
       "<div>\n",
       "<style scoped>\n",
       "    .dataframe tbody tr th:only-of-type {\n",
       "        vertical-align: middle;\n",
       "    }\n",
       "\n",
       "    .dataframe tbody tr th {\n",
       "        vertical-align: top;\n",
       "    }\n",
       "\n",
       "    .dataframe thead th {\n",
       "        text-align: right;\n",
       "    }\n",
       "</style>\n",
       "<table border=\"1\" class=\"dataframe\">\n",
       "  <thead>\n",
       "    <tr style=\"text-align: right;\">\n",
       "      <th></th>\n",
       "      <th>id</th>\n",
       "      <th>dist</th>\n",
       "    </tr>\n",
       "    <tr>\n",
       "      <th>dist group</th>\n",
       "      <th></th>\n",
       "      <th></th>\n",
       "    </tr>\n",
       "  </thead>\n",
       "  <tbody>\n",
       "    <tr>\n",
       "      <th>(1.0, 1.01]</th>\n",
       "      <td>0</td>\n",
       "      <td>0</td>\n",
       "    </tr>\n",
       "    <tr>\n",
       "      <th>(1.01, 1.02]</th>\n",
       "      <td>0</td>\n",
       "      <td>0</td>\n",
       "    </tr>\n",
       "    <tr>\n",
       "      <th>(1.02, 1.03]</th>\n",
       "      <td>0</td>\n",
       "      <td>0</td>\n",
       "    </tr>\n",
       "    <tr>\n",
       "      <th>(1.03, 1.04]</th>\n",
       "      <td>0</td>\n",
       "      <td>0</td>\n",
       "    </tr>\n",
       "    <tr>\n",
       "      <th>(1.04, 1.05]</th>\n",
       "      <td>0</td>\n",
       "      <td>0</td>\n",
       "    </tr>\n",
       "    <tr>\n",
       "      <th>...</th>\n",
       "      <td>...</td>\n",
       "      <td>...</td>\n",
       "    </tr>\n",
       "    <tr>\n",
       "      <th>(1.64, 1.65]</th>\n",
       "      <td>18</td>\n",
       "      <td>18</td>\n",
       "    </tr>\n",
       "    <tr>\n",
       "      <th>(1.65, 1.66]</th>\n",
       "      <td>11</td>\n",
       "      <td>11</td>\n",
       "    </tr>\n",
       "    <tr>\n",
       "      <th>(1.66, 1.67]</th>\n",
       "      <td>6</td>\n",
       "      <td>6</td>\n",
       "    </tr>\n",
       "    <tr>\n",
       "      <th>(1.67, 1.68]</th>\n",
       "      <td>3</td>\n",
       "      <td>3</td>\n",
       "    </tr>\n",
       "    <tr>\n",
       "      <th>(1.68, 1.69]</th>\n",
       "      <td>1</td>\n",
       "      <td>1</td>\n",
       "    </tr>\n",
       "  </tbody>\n",
       "</table>\n",
       "<p>69 rows × 2 columns</p>\n",
       "</div>"
      ],
      "text/plain": [
       "              id  dist\n",
       "dist group            \n",
       "(1.0, 1.01]    0     0\n",
       "(1.01, 1.02]   0     0\n",
       "(1.02, 1.03]   0     0\n",
       "(1.03, 1.04]   0     0\n",
       "(1.04, 1.05]   0     0\n",
       "...           ..   ...\n",
       "(1.64, 1.65]  18    18\n",
       "(1.65, 1.66]  11    11\n",
       "(1.66, 1.67]   6     6\n",
       "(1.67, 1.68]   3     3\n",
       "(1.68, 1.69]   1     1\n",
       "\n",
       "[69 rows x 2 columns]"
      ]
     },
     "execution_count": 13,
     "metadata": {},
     "output_type": "execute_result"
    }
   ],
   "source": [
    "dist_count = dist_f.groupby(\"dist group\").count()\n",
    "dist_count"
   ]
  },
  {
   "cell_type": "code",
   "execution_count": 14,
   "metadata": {},
   "outputs": [],
   "source": [
    "exp_path = \"/media/mydrive/distribution/ann-codes/in-memory/EXPERIMENTS/random\"\n",
    "dist_count.to_csv(exp_path + \"/dist_count.csv\")"
   ]
  },
  {
   "cell_type": "code",
   "execution_count": 15,
   "metadata": {},
   "outputs": [],
   "source": [
    "from math import sqrt\n",
    "def trigonometric(dist):\n",
    "    radius = 1\n",
    "    q2c = 1\n",
    "    costheta = (radius * radius + q2c * q2c - dist * dist) / (2 * radius * q2c)\n",
    "    a = radius * costheta\n",
    "    b = radius * sqrt(1 - costheta * costheta)\n",
    "    return a, b"
   ]
  },
  {
   "cell_type": "code",
   "execution_count": 16,
   "metadata": {},
   "outputs": [
    {
     "data": {
      "text/plain": [
       "((0.5, 0.8660254037844386),\n",
       " (0.28, 0.96),\n",
       " (0.02000000000000013, 0.999799979995999),\n",
       " (0.6799999999999999, 0.7332121111929345),\n",
       " (-0.6200000000000001, 0.7846018098373212))"
      ]
     },
     "execution_count": 16,
     "metadata": {},
     "output_type": "execute_result"
    }
   ],
   "source": [
    "trigonometric(1), trigonometric(1.2), trigonometric(1.4), trigonometric(0.8), trigonometric(1.8)"
   ]
  },
  {
   "cell_type": "code",
   "execution_count": 20,
   "metadata": {},
   "outputs": [
    {
     "data": {
      "text/plain": [
       "(1000, 450)"
      ]
     },
     "execution_count": 20,
     "metadata": {},
     "output_type": "execute_result"
    }
   ],
   "source": [
    "qh = fvecs_read(config[\"query hash filename\"])\n",
    "qh.shape"
   ]
  },
  {
   "cell_type": "code",
   "execution_count": 21,
   "metadata": {},
   "outputs": [
    {
     "data": {
      "text/plain": [
       "array([2.009734 , 2.0071027, 2.8102922, 2.5894718, 1.973212 , 3.2363935,\n",
       "       2.4910886, 2.3918133, 3.2440848, 2.0695832, 2.3005588, 2.7523203,\n",
       "       2.4254208, 2.1955483, 2.1933644, 2.5032716, 2.1011815, 2.4772303,\n",
       "       2.1751862, 1.8850384, 2.620159 , 2.034828 , 2.1980448, 2.051328 ,\n",
       "       2.1867251, 2.4039938, 2.780062 , 3.3954294, 2.4654107, 2.5716145,\n",
       "       2.2741354, 3.3134823, 2.1837995, 2.2280314, 2.0111663, 2.1370742,\n",
       "       2.621291 , 2.0439188, 2.5330725, 1.7382069, 2.6365056, 2.9977648,\n",
       "       2.4758239, 1.6144464, 1.9621611, 2.1533263, 2.2394512, 2.809265 ,\n",
       "       1.7466234, 2.3058476], dtype=float32)"
      ]
     },
     "execution_count": 21,
     "metadata": {},
     "output_type": "execute_result"
    }
   ],
   "source": [
    "qh = qh[3,:]\n",
    "qh = qh.reshape((50, 9))\n",
    "np.linalg.norm(qh, axis=1)"
   ]
  },
  {
   "cell_type": "code",
   "execution_count": 26,
   "metadata": {},
   "outputs": [
    {
     "data": {
      "text/plain": [
       "array([1.005, 1.015, 1.025, 1.035, 1.045, 1.055, 1.065, 1.075, 1.085,\n",
       "       1.095, 1.105, 1.115, 1.125, 1.135, 1.145, 1.155, 1.165, 1.175,\n",
       "       1.185, 1.195, 1.205, 1.215, 1.225, 1.235, 1.245, 1.255, 1.265,\n",
       "       1.275, 1.285, 1.295, 1.305, 1.315, 1.325, 1.335, 1.345, 1.355,\n",
       "       1.365, 1.375, 1.385, 1.395, 1.405, 1.415, 1.425, 1.435, 1.445,\n",
       "       1.455, 1.465, 1.475, 1.485, 1.495, 1.505, 1.515, 1.525, 1.535,\n",
       "       1.545, 1.555, 1.565, 1.575, 1.585, 1.595, 1.605, 1.615, 1.625,\n",
       "       1.635, 1.645, 1.655, 1.665, 1.675, 1.685])"
      ]
     },
     "execution_count": 26,
     "metadata": {},
     "output_type": "execute_result"
    }
   ],
   "source": [
    "x_bins = np.arange(1.005, 1.685, 0.01)\n",
    "x_bins"
   ]
  },
  {
   "cell_type": "code",
   "execution_count": 27,
   "metadata": {},
   "outputs": [
    {
     "data": {
      "text/plain": [
       "[0,\n",
       " 0,\n",
       " 0,\n",
       " 0,\n",
       " 0,\n",
       " 0,\n",
       " 0,\n",
       " 1,\n",
       " 0,\n",
       " 0,\n",
       " 1,\n",
       " 3,\n",
       " 8,\n",
       " 5,\n",
       " 19,\n",
       " 40,\n",
       " 65,\n",
       " 112,\n",
       " 165,\n",
       " 292,\n",
       " 438,\n",
       " 639,\n",
       " 1007,\n",
       " 1511,\n",
       " 2117,\n",
       " 3120,\n",
       " 4524,\n",
       " 6039,\n",
       " 8345,\n",
       " 11137,\n",
       " 14339,\n",
       " 18609,\n",
       " 23466,\n",
       " 28373,\n",
       " 34146,\n",
       " 39922,\n",
       " 45655,\n",
       " 51480,\n",
       " 55674,\n",
       " 59613,\n",
       " 62319,\n",
       " 63396,\n",
       " 62849,\n",
       " 60529,\n",
       " 57308,\n",
       " 52562,\n",
       " 47313,\n",
       " 41071,\n",
       " 34332,\n",
       " 28298,\n",
       " 22440,\n",
       " 17023,\n",
       " 13011,\n",
       " 9121,\n",
       " 6495,\n",
       " 4351,\n",
       " 2648,\n",
       " 1764,\n",
       " 1036,\n",
       " 599,\n",
       " 334,\n",
       " 183,\n",
       " 72,\n",
       " 42,\n",
       " 18,\n",
       " 11,\n",
       " 6,\n",
       " 3,\n",
       " 1]"
      ]
     },
     "execution_count": 27,
     "metadata": {},
     "output_type": "execute_result"
    }
   ],
   "source": [
    "gt_bins = list(dist_count[\"id\"])\n",
    "gt_bins"
   ]
  },
  {
   "cell_type": "code",
   "execution_count": 28,
   "metadata": {},
   "outputs": [
    {
     "data": {
      "text/plain": [
       "[<matplotlib.lines.Line2D at 0x7febf5369e20>]"
      ]
     },
     "execution_count": 28,
     "metadata": {},
     "output_type": "execute_result"
    },
    {
     "data": {
      "image/png": "[encoded data removed]",
      "text/plain": [
       "<Figure size 432x288 with 1 Axes>"
      ]
     },
     "metadata": {
      "needs_background": "light"
     },
     "output_type": "display_data"
    }
   ],
   "source": [
    "import matplotlib.pyplot as plt\n",
    "plt.plot(x_bins, gt_bins)"
   ]
  },
  {
   "cell_type": "code",
   "execution_count": 94,
   "metadata": {},
   "outputs": [],
   "source": [
    "def recall(table_probs):\n",
    "    prod = 1.0\n",
    "    for p in table_probs:\n",
    "        prod *= 1 - p\n",
    "    return 1 - prod\n",
    "\n",
    "def predict_prob(dist):\n",
    "    a, b = trigonometric(dist)\n",
    "    rel_pos = a * qh_raw\n",
    "    \n",
    "    table_probs = []\n",
    "    for tid in range(50):\n",
    "        t_prob = 0\n",
    "        for probe in range(100):\n",
    "            probe_s = probing_seq[probe * 50 + tid]\n",
    "            lb = probe_s * 1.75 - bias[tid]\n",
    "            ub = lb + 1.75\n",
    "            lb = (lb - rel_pos[tid]) / b\n",
    "            ub = (ub - rel_pos[tid]) / b\n",
    "            prod = 1\n",
    "            for dim in range(9):\n",
    "                prod *= norm.cdf(ub[dim]) - norm.cdf(lb[dim])\n",
    "            t_prob += prod + 0.5 ** (20)\n",
    "        table_probs.append(t_prob)\n",
    "    return table_probs"
   ]
  },
  {
   "cell_type": "code",
   "execution_count": 96,
   "metadata": {},
   "outputs": [],
   "source": [
    "ans = predict_prob(1.5)"
   ]
  },
  {
   "cell_type": "code",
   "execution_count": 97,
   "metadata": {},
   "outputs": [
    {
     "data": {
      "text/plain": [
       "(0.6628651472838397, 0.22864354439603873)"
      ]
     },
     "execution_count": 97,
     "metadata": {},
     "output_type": "execute_result"
    }
   ],
   "source": [
    "recall(ans), recall(ans[:17])"
   ]
  },
  {
   "cell_type": "code",
   "execution_count": 37,
   "metadata": {},
   "outputs": [
    {
     "data": {
      "text/plain": [
       "((450, 128), (50, 9))"
      ]
     },
     "execution_count": 37,
     "metadata": {},
     "output_type": "execute_result"
    }
   ],
   "source": [
    "hfuncs = fvecs_read_non_uniform(config[\"result filename\"])\n",
    "bias = hfuncs[-1]\n",
    "bias = bias.reshape((50, 9))\n",
    "hfuncs = np.array(hfuncs[:-1])\n",
    "hfuncs.shape, bias.shape"
   ]
  },
  {
   "cell_type": "code",
   "execution_count": 35,
   "metadata": {},
   "outputs": [
    {
     "data": {
      "text/plain": [
       "array([2.9925256, 3.4762182, 2.687157 , 2.7234828, 2.832537 , 3.929239 ,\n",
       "       3.2654278, 3.3945978, 3.5660841, 3.7276568, 2.4524884, 3.3340154,\n",
       "       2.2471194, 2.6787872, 3.6441512, 3.5093365, 1.7463028, 3.612031 ,\n",
       "       2.626326 , 3.638707 , 2.9847493, 2.1354156, 3.025804 , 2.7158453,\n",
       "       2.223009 , 2.3628879, 3.6770444, 3.6943655, 3.2699447, 3.1024241,\n",
       "       3.0809813, 3.9628305, 2.6052418, 1.9730846, 1.827606 , 1.6904502,\n",
       "       2.464863 , 2.4923   , 2.963651 , 1.9479736, 3.1506386, 2.7258244,\n",
       "       2.1887405, 1.9457631, 2.5359344, 1.9626727, 2.4177253, 2.8360074,\n",
       "       3.3819249, 2.8380384], dtype=float32)"
      ]
     },
     "execution_count": 35,
     "metadata": {},
     "output_type": "execute_result"
    }
   ],
   "source": [
    "query = fvecs_read(config[\"query filename\"])[3]\n",
    "qh_raw = hfuncs @ query.transpose()\n",
    "qh_raw = qh_raw.reshape((50, 9))\n",
    "np.linalg.norm(qh_raw, axis=1)"
   ]
  },
  {
   "cell_type": "code",
   "execution_count": 39,
   "metadata": {},
   "outputs": [
    {
     "data": {
      "text/plain": [
       "2.9802322e-07"
      ]
     },
     "execution_count": 39,
     "metadata": {},
     "output_type": "execute_result"
    }
   ],
   "source": [
    "np.max(qh - (qh_raw + bias) / 1.75)"
   ]
  },
  {
   "cell_type": "code",
   "execution_count": 44,
   "metadata": {},
   "outputs": [],
   "source": [
    "from scipy.stats import norm"
   ]
  },
  {
   "cell_type": "code",
   "execution_count": 46,
   "metadata": {},
   "outputs": [
    {
     "data": {
      "text/plain": [
       "0.8413447460685429"
      ]
     },
     "execution_count": 46,
     "metadata": {},
     "output_type": "execute_result"
    }
   ],
   "source": [
    "norm.cdf(1)"
   ]
  },
  {
   "cell_type": "code",
   "execution_count": 48,
   "metadata": {},
   "outputs": [
    {
     "name": "stdout",
     "output_type": "stream",
     "text": [
      "[array([1.44827860e-03, 4.35388235e-34]), array([-8.63443668e-06,  3.19803567e-28]), array([-4.13622628e-16, -1.54708852e-43]), array([-2.35453459e-24,  6.14686080e-43]), array([3.16464985e-23, 1.15896436e-17]), array([9.56811195e-47, 1.31283682e-26]), array([-1.03274428e-59,  1.97004418e-45]), array([5.62534786e-84, 2.78777289e-45]), array([-5.43948327e-101,  1.07384410e-038]), array([-0.00000000e+00,  1.65634143e-25]), array([-0.00000000e+00, -6.52118843e-33]), array([0.00000000e+00, 7.29743536e-50]), array([-0.00000000e+00,  7.89475115e-43]), array([0.00000000e+00, 6.22300197e-40]), array([-0.00000000e+00,  1.86402196e-35]), array([0.00000000e+00, 5.29618738e-41]), array([-0.00000000e+00, -1.87377532e-46]), array([ 0.00000000e+00, -4.86466682e-25]), array([-0.00000000e+00, -6.25183097e-44]), array([ 0.00000000e+00, -5.62010628e-20]), array([-0.00000000e+00,  2.24243433e-47]), array([0.00000000e+00, 6.77430111e-48]), array([-0.00000000e+00,  2.78748822e-45]), array([-0.00000000e+00,  1.93072971e-44]), array([-0.00000000e+00, -1.41197409e-41]), array([0.00000000e+00, 1.21342091e-34]), array([-0.00000000e+00, -6.22135133e-25]), array([-0.00000000e+00, -3.45559331e-31]), array([-0.00000000e+00, -3.12896585e-31]), array([ 0.00000000e+00, -3.90182286e-37]), array([ 0.0000000e+00, -1.8656365e-20]), array([-0.00000000e+00,  6.89984991e-39]), array([-0.00000000e+00, -4.84065911e-40]), array([-0.00000000e+00, -1.94895672e-48]), array([0.00000000e+00, 1.62180308e-53]), array([0.00000000e+00, 1.72645719e-46]), array([ 0.00000000e+00, -5.95627309e-40]), array([-0.00000000e+00, -6.23670509e-47]), array([ 0.0000000e+00, -1.2939616e-33]), array([0.00000000e+00, 1.14118296e-43]), array([ 0.00000000e+00, -2.69160945e-34]), array([-0.00000000e+00,  1.11653302e-34]), array([-0.00000000e+00, -2.22207045e-42]), array([-0.00000000e+00,  3.48036268e-31]), array([ 0.00000000e+00, -5.05055943e-20]), array([-0.00000000e+00, -1.29331823e-36]), array([0.00000000e+00, 1.46028174e-38]), array([0.00000000e+00, 1.44722395e-41]), array([-0.00000000e+00,  3.22469406e-16]), array([0.00000000e+00, 2.59133806e-35])]\n"
     ]
    },
    {
     "data": {
      "text/plain": [
       "array([1.43965667e-03, 3.33066907e-16])"
      ]
     },
     "execution_count": 48,
     "metadata": {},
     "output_type": "execute_result"
    }
   ],
   "source": [
    "predict_prob(0.1)"
   ]
  },
  {
   "cell_type": "code",
   "execution_count": 84,
   "metadata": {},
   "outputs": [
    {
     "data": {
      "text/plain": [
       "5001000"
      ]
     },
     "execution_count": 84,
     "metadata": {},
     "output_type": "execute_result"
    }
   ],
   "source": [
    "probing_seq = ivecs_read_non_uniform(exp_path + \"/probing_sequence_v.ivecs\")\n",
    "len(probing_seq)"
   ]
  },
  {
   "cell_type": "code",
   "execution_count": 86,
   "metadata": {},
   "outputs": [
    {
     "data": {
      "text/plain": [
       "(5000, 9)"
      ]
     },
     "execution_count": 86,
     "metadata": {},
     "output_type": "execute_result"
    }
   ],
   "source": [
    "probing_seq = np.array(probing_seq[5001*3+1:5001*4])[:, :-1]\n",
    "probing_seq.shape"
   ]
  },
  {
   "cell_type": "code",
   "execution_count": 6,
   "metadata": {},
   "outputs": [],
   "source": [
    "from read_candidate import load_candidate\n",
    "\n",
    "def estimate(conf_path, query, bins, l):\n",
    "    candiate_tables = load_candidate(query, conf_path)[:l]\n",
    "    flat = []\n",
    "    for ct in candiate_tables:\n",
    "        flat.extend(ct)\n",
    "    candidates = set(flat)\n",
    "\n",
    "    dist_f = pd.DataFrame({\"id\": list(range(1000000)), \"dist\": distance[query, :]})\n",
    "    distance_group = pd.cut(dist_f[\"dist\"], bins=np.arange(*bins))\n",
    "    dist_f[\"dist group\"] = distance_group\n",
    "    cand_f = dist_f.loc[candidates]\n",
    "    gt_count = dist_f.groupby(\"dist group\").count()\n",
    "    gt_count = np.array(gt_count[\"id\"])\n",
    "    cand_count = cand_f.groupby(\"dist group\").count()\n",
    "    cand_count = np.array(cand_count[\"id\"])\n",
    "    \n",
    "    return gt_count, cand_count / recall_qh[query, :]\n",
    "    \n"
   ]
  },
  {
   "cell_type": "code",
   "execution_count": 9,
   "metadata": {},
   "outputs": [
    {
     "name": "stdout",
     "output_type": "stream",
     "text": [
      "0\n",
      "1\n",
      "2\n",
      "3\n",
      "4\n",
      "5\n",
      "6\n",
      "7\n",
      "8\n",
      "9\n",
      "10\n",
      "11\n",
      "12\n",
      "13\n",
      "14\n",
      "15\n",
      "16\n",
      "17\n",
      "18\n",
      "19\n",
      "20\n",
      "21\n",
      "22\n",
      "23\n",
      "24\n",
      "25\n",
      "26\n",
      "27\n",
      "28\n",
      "29\n",
      "30\n",
      "31\n",
      "32\n",
      "33\n",
      "34\n",
      "35\n",
      "36\n",
      "37\n",
      "38\n",
      "39\n",
      "40\n",
      "41\n",
      "42\n",
      "43\n",
      "44\n",
      "45\n",
      "46\n",
      "47\n",
      "48\n",
      "49\n",
      "50\n",
      "51\n",
      "52\n",
      "53\n",
      "54\n",
      "55\n",
      "56\n",
      "57\n",
      "58\n",
      "59\n",
      "60\n",
      "61\n",
      "62\n",
      "63\n",
      "64\n",
      "65\n",
      "66\n",
      "67\n",
      "68\n",
      "69\n",
      "70\n",
      "71\n",
      "72\n",
      "73\n",
      "74\n",
      "75\n",
      "76\n",
      "77\n",
      "78\n",
      "79\n",
      "80\n",
      "81\n",
      "82\n",
      "83\n",
      "84\n",
      "85\n",
      "86\n",
      "87\n",
      "88\n",
      "89\n",
      "90\n",
      "91\n",
      "92\n",
      "93\n",
      "94\n",
      "95\n",
      "96\n",
      "97\n",
      "98\n",
      "99\n",
      "100\n",
      "101\n",
      "102\n",
      "103\n",
      "104\n",
      "105\n",
      "106\n",
      "107\n",
      "108\n",
      "109\n",
      "110\n",
      "111\n",
      "112\n",
      "113\n",
      "114\n",
      "115\n",
      "116\n",
      "117\n",
      "118\n",
      "119\n",
      "120\n",
      "121\n",
      "122\n",
      "123\n",
      "124\n",
      "125\n",
      "126\n",
      "127\n",
      "128\n",
      "129\n",
      "130\n",
      "131\n",
      "132\n",
      "133\n",
      "134\n",
      "135\n",
      "136\n",
      "137\n",
      "138\n",
      "139\n",
      "140\n",
      "141\n",
      "142\n",
      "143\n",
      "144\n",
      "145\n",
      "146\n",
      "147\n",
      "148\n",
      "149\n",
      "150\n",
      "151\n",
      "152\n",
      "153\n",
      "154\n",
      "155\n",
      "156\n",
      "157\n",
      "158\n",
      "159\n",
      "160\n",
      "161\n",
      "162\n",
      "163\n",
      "164\n",
      "165\n",
      "166\n",
      "167\n",
      "168\n",
      "169\n",
      "170\n",
      "171\n",
      "172\n",
      "173\n",
      "174\n",
      "175\n",
      "176\n",
      "177\n",
      "178\n",
      "179\n",
      "180\n",
      "181\n",
      "182\n",
      "183\n",
      "184\n",
      "185\n",
      "186\n",
      "187\n",
      "188\n",
      "189\n",
      "190\n",
      "191\n",
      "192\n",
      "193\n",
      "194\n",
      "195\n",
      "196\n",
      "197\n",
      "198\n",
      "199\n",
      "200\n",
      "201\n",
      "202\n",
      "203\n",
      "204\n",
      "205\n",
      "206\n",
      "207\n",
      "208\n",
      "209\n",
      "210\n",
      "211\n",
      "212\n",
      "213\n",
      "214\n",
      "215\n",
      "216\n",
      "217\n",
      "218\n",
      "219\n",
      "220\n",
      "221\n",
      "222\n",
      "223\n",
      "224\n",
      "225\n",
      "226\n",
      "227\n",
      "228\n",
      "229\n",
      "230\n",
      "231\n",
      "232\n",
      "233\n",
      "234\n",
      "235\n",
      "236\n",
      "237\n",
      "238\n",
      "239\n",
      "240\n",
      "241\n",
      "242\n",
      "243\n",
      "244\n",
      "245\n",
      "246\n",
      "247\n",
      "248\n",
      "249\n",
      "250\n",
      "251\n",
      "252\n",
      "253\n",
      "254\n",
      "255\n",
      "256\n",
      "257\n",
      "258\n",
      "259\n",
      "260\n",
      "261\n",
      "262\n",
      "263\n",
      "264\n",
      "265\n",
      "266\n",
      "267\n",
      "268\n",
      "269\n",
      "270\n",
      "271\n",
      "272\n",
      "273\n",
      "274\n",
      "275\n",
      "276\n",
      "277\n",
      "278\n",
      "279\n",
      "280\n",
      "281\n",
      "282\n",
      "283\n",
      "284\n",
      "285\n",
      "286\n",
      "287\n",
      "288\n",
      "289\n",
      "290\n",
      "291\n",
      "292\n",
      "293\n",
      "294\n",
      "295\n",
      "296\n",
      "297\n",
      "298\n",
      "299\n",
      "300\n",
      "301\n",
      "302\n",
      "303\n",
      "304\n",
      "305\n",
      "306\n",
      "307\n",
      "308\n",
      "309\n",
      "310\n",
      "311\n",
      "312\n",
      "313\n",
      "314\n",
      "315\n",
      "316\n",
      "317\n",
      "318\n",
      "319\n",
      "320\n",
      "321\n",
      "322\n",
      "323\n",
      "324\n",
      "325\n",
      "326\n",
      "327\n",
      "328\n",
      "329\n",
      "330\n",
      "331\n",
      "332\n",
      "333\n",
      "334\n",
      "335\n",
      "336\n",
      "337\n",
      "338\n",
      "339\n",
      "340\n",
      "341\n",
      "342\n",
      "343\n",
      "344\n",
      "345\n",
      "346\n",
      "347\n",
      "348\n",
      "349\n",
      "350\n",
      "351\n",
      "352\n",
      "353\n",
      "354\n",
      "355\n",
      "356\n",
      "357\n",
      "358\n",
      "359\n",
      "360\n",
      "361\n",
      "362\n",
      "363\n",
      "364\n",
      "365\n",
      "366\n",
      "367\n",
      "368\n",
      "369\n",
      "370\n",
      "371\n",
      "372\n",
      "373\n",
      "374\n",
      "375\n",
      "376\n",
      "377\n",
      "378\n",
      "379\n",
      "380\n",
      "381\n",
      "382\n",
      "383\n",
      "384\n",
      "385\n",
      "386\n",
      "387\n",
      "388\n",
      "389\n",
      "390\n",
      "391\n",
      "392\n",
      "393\n",
      "394\n",
      "395\n",
      "396\n",
      "397\n",
      "398\n",
      "399\n",
      "400\n",
      "401\n",
      "402\n",
      "403\n",
      "404\n",
      "405\n",
      "406\n",
      "407\n",
      "408\n",
      "409\n",
      "410\n",
      "411\n",
      "412\n",
      "413\n",
      "414\n",
      "415\n",
      "416\n",
      "417\n",
      "418\n",
      "419\n",
      "420\n",
      "421\n",
      "422\n",
      "423\n",
      "424\n",
      "425\n",
      "426\n",
      "427\n",
      "428\n",
      "429\n",
      "430\n",
      "431\n",
      "432\n",
      "433\n",
      "434\n",
      "435\n",
      "436\n",
      "437\n",
      "438\n",
      "439\n",
      "440\n",
      "441\n",
      "442\n",
      "443\n",
      "444\n",
      "445\n",
      "446\n",
      "447\n",
      "448\n",
      "449\n",
      "450\n",
      "451\n",
      "452\n",
      "453\n",
      "454\n",
      "455\n",
      "456\n",
      "457\n",
      "458\n",
      "459\n",
      "460\n",
      "461\n",
      "462\n",
      "463\n",
      "464\n",
      "465\n",
      "466\n",
      "467\n",
      "468\n",
      "469\n",
      "470\n",
      "471\n",
      "472\n",
      "473\n",
      "474\n",
      "475\n",
      "476\n",
      "477\n",
      "478\n",
      "479\n",
      "480\n",
      "481\n",
      "482\n",
      "483\n",
      "484\n",
      "485\n",
      "486\n",
      "487\n",
      "488\n",
      "489\n",
      "490\n",
      "491\n",
      "492\n",
      "493\n",
      "494\n",
      "495\n",
      "496\n",
      "497\n",
      "498\n",
      "499\n",
      "500\n",
      "501\n",
      "502\n",
      "503\n",
      "504\n",
      "505\n",
      "506\n",
      "507\n",
      "508\n",
      "509\n",
      "510\n",
      "511\n",
      "512\n",
      "513\n",
      "514\n",
      "515\n",
      "516\n",
      "517\n",
      "518\n",
      "519\n",
      "520\n",
      "521\n",
      "522\n",
      "523\n",
      "524\n",
      "525\n",
      "526\n",
      "527\n",
      "528\n",
      "529\n",
      "530\n",
      "531\n",
      "532\n",
      "533\n",
      "534\n",
      "535\n",
      "536\n",
      "537\n",
      "538\n",
      "539\n",
      "540\n",
      "541\n",
      "542\n",
      "543\n",
      "544\n",
      "545\n",
      "546\n",
      "547\n",
      "548\n",
      "549\n",
      "550\n",
      "551\n",
      "552\n",
      "553\n",
      "554\n",
      "555\n",
      "556\n",
      "557\n",
      "558\n",
      "559\n",
      "560\n",
      "561\n",
      "562\n",
      "563\n",
      "564\n",
      "565\n",
      "566\n",
      "567\n",
      "568\n",
      "569\n",
      "570\n",
      "571\n",
      "572\n",
      "573\n",
      "574\n",
      "575\n",
      "576\n",
      "577\n",
      "578\n",
      "579\n",
      "580\n",
      "581\n",
      "582\n",
      "583\n",
      "584\n",
      "585\n",
      "586\n",
      "587\n",
      "588\n",
      "589\n",
      "590\n",
      "591\n",
      "592\n",
      "593\n",
      "594\n",
      "595\n",
      "596\n",
      "597\n",
      "598\n",
      "599\n",
      "600\n",
      "601\n",
      "602\n",
      "603\n",
      "604\n",
      "605\n",
      "606\n",
      "607\n",
      "608\n",
      "609\n",
      "610\n",
      "611\n",
      "612\n",
      "613\n",
      "614\n",
      "615\n",
      "616\n",
      "617\n",
      "618\n",
      "619\n",
      "620\n",
      "621\n",
      "622\n",
      "623\n",
      "624\n",
      "625\n",
      "626\n",
      "627\n",
      "628\n",
      "629\n",
      "630\n",
      "631\n",
      "632\n",
      "633\n",
      "634\n",
      "635\n",
      "636\n",
      "637\n",
      "638\n",
      "639\n",
      "640\n",
      "641\n",
      "642\n",
      "643\n",
      "644\n",
      "645\n",
      "646\n",
      "647\n",
      "648\n",
      "649\n",
      "650\n",
      "651\n",
      "652\n",
      "653\n",
      "654\n",
      "655\n",
      "656\n",
      "657\n",
      "658\n",
      "659\n",
      "660\n",
      "661\n",
      "662\n",
      "663\n",
      "664\n",
      "665\n",
      "666\n",
      "667\n",
      "668\n",
      "669\n",
      "670\n",
      "671\n",
      "672\n",
      "673\n",
      "674\n",
      "675\n",
      "676\n",
      "677\n",
      "678\n",
      "679\n",
      "680\n",
      "681\n",
      "682\n",
      "683\n",
      "684\n",
      "685\n",
      "686\n",
      "687\n",
      "688\n",
      "689\n",
      "690\n",
      "691\n",
      "692\n",
      "693\n",
      "694\n",
      "695\n",
      "696\n",
      "697\n",
      "698\n",
      "699\n",
      "700\n",
      "701\n",
      "702\n",
      "703\n",
      "704\n",
      "705\n",
      "706\n",
      "707\n",
      "708\n",
      "709\n",
      "710\n",
      "711\n",
      "712\n",
      "713\n",
      "714\n",
      "715\n",
      "716\n",
      "717\n",
      "718\n",
      "719\n",
      "720\n",
      "721\n",
      "722\n",
      "723\n",
      "724\n",
      "725\n",
      "726\n",
      "727\n",
      "728\n",
      "729\n",
      "730\n",
      "731\n",
      "732\n",
      "733\n",
      "734\n",
      "735\n",
      "736\n",
      "737\n",
      "738\n",
      "739\n",
      "740\n",
      "741\n",
      "742\n",
      "743\n",
      "744\n",
      "745\n",
      "746\n",
      "747\n",
      "748\n",
      "749\n",
      "750\n",
      "751\n",
      "752\n",
      "753\n",
      "754\n",
      "755\n",
      "756\n",
      "757\n",
      "758\n",
      "759\n",
      "760\n",
      "761\n",
      "762\n",
      "763\n",
      "764\n",
      "765\n",
      "766\n",
      "767\n",
      "768\n",
      "769\n",
      "770\n",
      "771\n",
      "772\n",
      "773\n",
      "774\n",
      "775\n",
      "776\n",
      "777\n",
      "778\n",
      "779\n",
      "780\n",
      "781\n",
      "782\n",
      "783\n",
      "784\n",
      "785\n",
      "786\n",
      "787\n",
      "788\n",
      "789\n",
      "790\n",
      "791\n",
      "792\n",
      "793\n",
      "794\n",
      "795\n",
      "796\n",
      "797\n",
      "798\n",
      "799\n",
      "800\n",
      "801\n",
      "802\n",
      "803\n",
      "804\n",
      "805\n",
      "806\n",
      "807\n",
      "808\n",
      "809\n",
      "810\n",
      "811\n",
      "812\n",
      "813\n",
      "814\n",
      "815\n",
      "816\n",
      "817\n",
      "818\n",
      "819\n",
      "820\n",
      "821\n",
      "822\n",
      "823\n",
      "824\n",
      "825\n",
      "826\n",
      "827\n",
      "828\n",
      "829\n",
      "830\n",
      "831\n",
      "832\n",
      "833\n",
      "834\n",
      "835\n",
      "836\n",
      "837\n",
      "838\n",
      "839\n",
      "840\n",
      "841\n",
      "842\n",
      "843\n",
      "844\n",
      "845\n",
      "846\n",
      "847\n",
      "848\n",
      "849\n",
      "850\n",
      "851\n",
      "852\n",
      "853\n",
      "854\n",
      "855\n",
      "856\n",
      "857\n",
      "858\n",
      "859\n",
      "860\n",
      "861\n",
      "862\n",
      "863\n",
      "864\n",
      "865\n",
      "866\n",
      "867\n",
      "868\n",
      "869\n",
      "870\n",
      "871\n",
      "872\n",
      "873\n",
      "874\n",
      "875\n",
      "876\n",
      "877\n",
      "878\n",
      "879\n",
      "880\n",
      "881\n",
      "882\n",
      "883\n",
      "884\n",
      "885\n",
      "886\n",
      "887\n",
      "888\n",
      "889\n",
      "890\n",
      "891\n",
      "892\n",
      "893\n",
      "894\n",
      "895\n",
      "896\n",
      "897\n",
      "898\n",
      "899\n",
      "900\n",
      "901\n",
      "902\n",
      "903\n",
      "904\n",
      "905\n",
      "906\n",
      "907\n",
      "908\n",
      "909\n",
      "910\n",
      "911\n",
      "912\n",
      "913\n",
      "914\n",
      "915\n",
      "916\n",
      "917\n",
      "918\n",
      "919\n",
      "920\n",
      "921\n",
      "922\n",
      "923\n",
      "924\n",
      "925\n",
      "926\n",
      "927\n",
      "928\n",
      "929\n",
      "930\n",
      "931\n",
      "932\n",
      "933\n",
      "934\n",
      "935\n",
      "936\n",
      "937\n",
      "938\n",
      "939\n",
      "940\n",
      "941\n",
      "942\n",
      "943\n",
      "944\n",
      "945\n",
      "946\n",
      "947\n",
      "948\n",
      "949\n",
      "950\n",
      "951\n",
      "952\n",
      "953\n",
      "954\n",
      "955\n",
      "956\n",
      "957\n",
      "958\n",
      "959\n",
      "960\n",
      "961\n",
      "962\n",
      "963\n",
      "964\n",
      "965\n",
      "966\n",
      "967\n",
      "968\n",
      "969\n",
      "970\n",
      "971\n",
      "972\n",
      "973\n",
      "974\n",
      "975\n",
      "976\n",
      "977\n",
      "978\n",
      "979\n",
      "980\n",
      "981\n",
      "982\n",
      "983\n",
      "984\n",
      "985\n",
      "986\n",
      "987\n",
      "988\n",
      "989\n",
      "990\n",
      "991\n",
      "992\n",
      "993\n",
      "994\n",
      "995\n",
      "996\n",
      "997\n",
      "998\n",
      "999\n"
     ]
    },
    {
     "data": {
      "text/plain": [
       "array([0.05669975, 0.05886448, 0.05949961, 0.06014847, 0.06156327,\n",
       "       0.06259213, 0.06378792, 0.06501943, 0.06603715, 0.06750948,\n",
       "       0.06862843, 0.06814745, 0.06930986, 0.06985877, 0.07121929,\n",
       "       0.07271317, 0.07318905, 0.07419169, 0.07483925, 0.07544036,\n",
       "       0.07664407, 0.07717977, 0.07797264, 0.07845087, 0.07850353,\n",
       "       0.07996397, 0.08081174, 0.08140484, 0.08294961, 0.08380137,\n",
       "       0.08464911, 0.08596416, 0.08706232, 0.08873182, 0.09051859,\n",
       "       0.0931539 , 0.09532023, 0.09796462, 0.10048093, 0.10239754,\n",
       "       0.10457754, 0.10681067, 0.10852585, 0.11096872, 0.11362482,\n",
       "       0.11657711, 0.11966548, 0.12317274, 0.12806221, 0.13280953,\n",
       "       0.13875287, 0.14776988, 0.15166351, 0.16430714, 0.17477094,\n",
       "       0.18646793, 0.21040682, 0.23955906, 0.28876075, 0.37124925])"
      ]
     },
     "execution_count": 9,
     "metadata": {},
     "output_type": "execute_result"
    },
    {
     "data": {
      "image/png": "[encoded data removed]",
      "text/plain": [
       "<Figure size 432x288 with 1 Axes>"
      ]
     },
     "metadata": {
      "needs_background": "light"
     },
     "output_type": "display_data"
    }
   ],
   "source": [
    "import numpy as np\n",
    "import pandas as pd\n",
    "import matplotlib.pyplot as plt\n",
    "from fvecs import *\n",
    "import json\n",
    "\n",
    "dataset = \"deep\"\n",
    "exp_path = \"/media/mydrive/distribution/ann-codes/in-memory/EXPERIMENTS/\" + dataset\n",
    "conf_path = exp_path + \"/ann_de.json\"\n",
    "l = 30\n",
    "\n",
    "with open(conf_path) as fin:\n",
    "    conf = json.load(fin)\n",
    "x_bins = np.arange(*conf[\"histogram bins\"])[:-1]\n",
    "distance = fvecs_read(exp_path + \"/distances.fvecs\")\n",
    "recall_qh = fvecs_read(conf[\"result filename\"])\n",
    "mre = np.zeros(len(x_bins))\n",
    "np.seterr(all=\"ignore\")\n",
    "for qid in range(1000):\n",
    "    print(qid)\n",
    "    gt, esti = estimate(conf_path, qid, conf[\"histogram bins\"], l)\n",
    "    plt.clf()\n",
    "    ax = plt.gca()\n",
    "    ax.plot(x_bins, gt, label=\"ground truth\")\n",
    "    ax.plot(x_bins, esti, label=\"estimated\")\n",
    "    ax.set_xlabel(\"distance\")\n",
    "    ax.set_ylabel(\"Number of points\")\n",
    "    ax.legend(loc=\"upper right\")\n",
    "    plt.savefig(\"/media/mydrive/distribution/ann-codes/in-memory/EXPERIMENTS/plots/{}_triang_{}.pdf\".format(\n",
    "            dataset, qid))\n",
    "    mre_na = np.abs(gt - esti) / gt\n",
    "    mre_na[np.isnan(mre_na)] = 0\n",
    "    mre += mre_na\n",
    "mre /= 1000\n",
    "mre"
   ]
  },
  {
   "cell_type": "code",
   "execution_count": null,
   "metadata": {},
   "outputs": [
    {
     "data": {
      "text/plain": [
       "(array([1.005, 1.015, 1.025, 1.035, 1.045, 1.055, 1.065, 1.075, 1.085,\n",
       "        1.095, 1.105, 1.115, 1.125, 1.135, 1.145, 1.155, 1.165, 1.175,\n",
       "        1.185, 1.195, 1.205, 1.215, 1.225, 1.235, 1.245, 1.255, 1.265,\n",
       "        1.275, 1.285, 1.295, 1.305, 1.315, 1.325, 1.335, 1.345, 1.355,\n",
       "        1.365, 1.375, 1.385, 1.395, 1.405, 1.415, 1.425, 1.435, 1.445,\n",
       "        1.455, 1.465, 1.475, 1.485, 1.495, 1.505, 1.515, 1.525, 1.535,\n",
       "        1.545, 1.555, 1.565, 1.575, 1.585, 1.595, 1.605, 1.615, 1.625,\n",
       "        1.635, 1.645, 1.655, 1.665, 1.675, 1.685]),\n",
       " (69,))"
      ]
     },
     "execution_count": 122,
     "metadata": {},
     "output_type": "execute_result"
    }
   ],
   "source": [
    "x_bins, x_bins.shape\n"
   ]
  },
  {
   "cell_type": "code",
   "execution_count": 110,
   "metadata": {},
   "outputs": [],
   "source": []
  },
  {
   "cell_type": "code",
   "execution_count": 111,
   "metadata": {},
   "outputs": [
    {
     "data": {
      "image/png": "[encoded data removed]",
      "text/plain": [
       "<Figure size 432x288 with 1 Axes>"
      ]
     },
     "metadata": {
      "needs_background": "light"
     },
     "output_type": "display_data"
    }
   ],
   "source": []
  },
  {
   "cell_type": "code",
   "execution_count": 113,
   "metadata": {},
   "outputs": [
    {
     "name": "stderr",
     "output_type": "stream",
     "text": [
      "/tmp/ipykernel_3326/2265722560.py:1: RuntimeWarning: invalid value encountered in true_divide\n",
      "  recalls = np.array(cand_count) / np.array(bin_esti)\n"
     ]
    },
    {
     "data": {
      "text/plain": [
       "array([       nan,        nan,        nan,        nan,        nan,\n",
       "              nan,        nan, 0.87582339,        nan,        nan,\n",
       "       0.83573736, 0.82118757, 0.80610402, 0.79052768, 0.774502  ,\n",
       "       0.75807245, 0.7412859 , 0.72419015, 0.70683348, 0.68926405,\n",
       "       0.67152969, 0.65367728, 0.63575261, 0.61779991, 0.59986169,\n",
       "       0.58197844, 0.56418856, 0.54652811, 0.52903077, 0.51172774,\n",
       "       0.49464768, 0.47781678, 0.46125867, 0.44499453, 0.42904309,\n",
       "       0.41342075, 0.39814164, 0.3832177 , 0.3686588 , 0.35447285,\n",
       "       0.3406659 , 0.32724229, 0.31420471, 0.30155437, 0.28929111,\n",
       "       0.27741349, 0.26591891, 0.25480373, 0.24406337, 0.2336924 ,\n",
       "       0.22368467, 0.21403332, 0.20473096, 0.19576969, 0.18714123,\n",
       "       0.17883689, 0.17084773, 0.16316463, 0.15577824, 0.14867913,\n",
       "       0.14185781, 0.13530478, 0.12901052, 0.12296562, 0.11716073,\n",
       "       0.11158663,        nan,        nan,        nan])"
      ]
     },
     "execution_count": 113,
     "metadata": {},
     "output_type": "execute_result"
    }
   ],
   "source": [
    "recalls = np.array(cand_count) / np.array(bin_esti)\n",
    "recalls"
   ]
  },
  {
   "cell_type": "code",
   "execution_count": 147,
   "metadata": {},
   "outputs": [
    {
     "data": {
      "image/png": "[encoded data removed]",
      "text/plain": [
       "<Figure size 3600x2400 with 1 Axes>"
      ]
     },
     "metadata": {
      "needs_background": "light"
     },
     "output_type": "display_data"
    }
   ],
   "source": [
    "plt.clf()\n",
    "import matplotlib as mpl\n",
    "mpl.rcParams['figure.dpi'] = 400\n",
    "ax = plt.gca()\n",
    "ax.plot(x_bins, mre/10)\n",
    "ax.set_xlabel(\"distance\")\n",
    "ax.set_ylabel(\"MRE\")\n",
    "plt.show()"
   ]
  },
  {
   "cell_type": "code",
   "execution_count": 117,
   "metadata": {},
   "outputs": [
    {
     "data": {
      "text/plain": [
       "(1000, 70)"
      ]
     },
     "execution_count": 117,
     "metadata": {},
     "output_type": "execute_result"
    }
   ],
   "source": [
    "recall_qh = fvecs_read(exp_path + \"/qh_recalls.fvecs\")\n",
    "recall_qh.shape"
   ]
  },
  {
   "cell_type": "code",
   "execution_count": 143,
   "metadata": {},
   "outputs": [
    {
     "data": {
      "text/plain": [
       "array([0.        , 0.        , 0.        , 0.        , 0.08249937,\n",
       "       0.        , 0.        , 0.        , 0.        , 0.14877849,\n",
       "       0.16557552, 0.18368156, 0.20315468, 0.22405392, 0.02065405,\n",
       "       0.00882848, 0.02805348, 0.02781477, 0.0124729 , 0.02157319,\n",
       "       0.04153144, 0.0520314 , 0.02156218, 0.05828069, 0.02934076,\n",
       "       0.0338386 , 0.013398  , 0.03486475, 0.03909423, 0.03632717,\n",
       "       0.0270272 , 0.03625332, 0.04998016, 0.05547921, 0.05486653,\n",
       "       0.05124478, 0.05483438, 0.04437171, 0.05110025, 0.06014919,\n",
       "       0.06065299, 0.0624076 , 0.06644574, 0.05769216, 0.0524506 ,\n",
       "       0.06183051, 0.06382279, 0.06368018, 0.07410357, 0.07264328,\n",
       "       0.05597467, 0.05684759, 0.09293493, 0.09307996, 0.07942197,\n",
       "       0.08466915, 0.088411  , 0.08260978, 0.07953852, 0.05000149,\n",
       "       0.07895589, 0.05929455, 0.2777651 , 0.20807412, 0.25832313,\n",
       "       0.22995942, 1.        , 1.        , 0.        ])"
      ]
     },
     "execution_count": 143,
     "metadata": {},
     "output_type": "execute_result"
    }
   ],
   "source": [
    " mre/10"
   ]
  },
  {
   "cell_type": "code",
   "execution_count": 29,
   "metadata": {},
   "outputs": [],
   "source": [
    "from fvecs import *\n",
    "gist = fvecs_read(\"/media/mydrive/KroneckerRotation/data/gist-train.fvecs\")"
   ]
  },
  {
   "cell_type": "code",
   "execution_count": 5,
   "metadata": {},
   "outputs": [],
   "source": [
    "distance = fvecs_read(\"/media/mydrive/distribution/ann-codes/in-memory/EXPERIMENTS/gist/distances.fvecs\")"
   ]
  },
  {
   "cell_type": "code",
   "execution_count": 6,
   "metadata": {},
   "outputs": [
    {
     "data": {
      "text/plain": [
       "(0.0, 8.060084)"
      ]
     },
     "execution_count": 6,
     "metadata": {},
     "output_type": "execute_result"
    }
   ],
   "source": [
    "np.min(distance), np.max(distance)"
   ]
  },
  {
   "cell_type": "code",
   "execution_count": 30,
   "metadata": {},
   "outputs": [
    {
     "data": {
      "text/plain": [
       "2.6005563250813575"
      ]
     },
     "execution_count": 30,
     "metadata": {},
     "output_type": "execute_result"
    }
   ],
   "source": [
    "np.mean(np.linalg.norm(gist, axis=1) ** 2) ** 0.5"
   ]
  },
  {
   "cell_type": "code",
   "execution_count": null,
   "metadata": {},
   "outputs": [],
   "source": []
  }
 ],
 "metadata": {
  "kernelspec": {
   "display_name": "Python 3.9.7 ('base')",
   "language": "python",
   "name": "python3"
  },
  "language_info": {
   "codemirror_mode": {
    "name": "ipython",
    "version": 3
   },
   "file_extension": ".py",
   "mimetype": "text/x-python",
   "name": "python",
   "nbconvert_exporter": "python",
   "pygments_lexer": "ipython3",
   "version": "3.9.7 (default, Sep 16 2021, 13:09:58) \n[GCC 7.5.0]"
  },
  "orig_nbformat": 4,
  "vscode": {
   "interpreter": {
    "hash": "99f12870cbcc9ed8002e6786f6ad5b3d26a9d22e686c10367ab33bcbed1232a0"
   }
  }
 },
 "nbformat": 4,
 "nbformat_minor": 2
}
