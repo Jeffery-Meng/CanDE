{
 "cells": [
  {
   "cell_type": "code",
   "execution_count": 7,
   "id": "b2dede20",
   "metadata": {},
   "outputs": [],
   "source": [
    "import pandas as pd\n",
    "import numpy as np\n",
    "import ast\n",
    "\n",
    "def read_data(fname, result):\n",
    "    sigmas = []\n",
    "    vals = []\n",
    "    with open(fname) as fin:\n",
    "        for line in fin.readlines():\n",
    "            line = line.split()\n",
    "            if len(line) >= 2:\n",
    "                sigmas.append(float(line[0]))\n",
    "                vals.append(float(line[1]))\n",
    "    result.append([sigmas, vals])\n",
    "    return result\n",
    "\n",
    "def read_data2(fname, result):\n",
    "    with open(fname) as fin:\n",
    "        sigmas = [float(x) for x in fin.readline().split()]\n",
    "        val1 = [float(x) for x in fin.readline().split()]\n",
    "    # result.append([sigmas, val1])\n",
    "    result.append([sigmas, val1])\n",
    "    return result"
   ]
  },
  {
   "cell_type": "code",
   "execution_count": 2,
   "id": "4aea54aa",
   "metadata": {},
   "outputs": [],
   "source": [
    "import matplotlib.pyplot as plt\n",
    "\n",
    "display_names = [\"CanDE-P\", \"CanDE-I\", \"Random Sample\", \"HBS\"]\n",
    "markers = [\"o\", \"p\", \"^\", \"x\", \"d\"]\n",
    "linestyles = [(0, ()), (0, (1, 1)), (0, (5, 5)), (0, (3, 5, 1, 5)), (0, (5, 1))]\n",
    "\n",
    "def plot_result(dataset, result, savepath, dnames = display_names):\n",
    "    f = plt.figure()\n",
    "    ax = plt.gca()\n",
    "    params = {'legend.fontsize': 22,\n",
    "            'axes.labelsize': 22,\n",
    "            'axes.titlesize':22,\n",
    "            'xtick.labelsize':22,\n",
    "            'ytick.labelsize':22}\n",
    "    plt.ticklabel_format(style='sci', axis='x', scilimits=(0,3))\n",
    "\n",
    "    for line_num, line_pair in enumerate(result):\n",
    "        ax.plot(line_pair[0], line_pair[1], linestyle=linestyles[line_num], marker=markers[line_num], \n",
    "                markersize=8, linewidth=3, label=display_names[line_num])\n",
    "    \n",
    "    #ax.set_ylim((0, 0.8))\n",
    "    #ax.plot(x_bins, mres[2], label=\"TRI\")\n",
    "    ax.set_xlabel(\"Sigma\",fontsize=22)\n",
    "    ax.set_ylabel(\"Mean Relative Error\",fontsize=22)\n",
    "    ax.set_yscale(\"log\")\n",
    "    ax.tick_params(axis='x', labelsize=18)\n",
    "    ax.tick_params(axis='y', labelsize=18)\n",
    "    ax.set_title(dataset)\n",
    "    ax.legend(loc=\"upper left\")\n",
    "\n",
    "    plt.savefig(savepath, bbox_inches=\"tight\")\n"
   ]
  },
  {
   "cell_type": "code",
   "execution_count": 13,
   "id": "b1b1e2f9",
   "metadata": {},
   "outputs": [
    {
     "data": {
      "text/plain": [
       "array([0.046208, 0.04482 , 0.044079, 0.043374, 0.042838, 0.042608,\n",
       "       0.042219, 0.042896, 0.043388, 0.04465 , 0.045786, 0.047092,\n",
       "       0.048527, 0.050072, 0.051724, 0.053524, 0.055167, 0.057019,\n",
       "       0.058995, 0.0611  ])"
      ]
     },
     "execution_count": 13,
     "metadata": {},
     "output_type": "execute_result"
    }
   ],
   "source": [
    "bayes_mre = []\n",
    "bayes_kde = pd.read_csv(\"/media/mydrive/distribution/ann-codes/in-memory/EXPERIMENTS/audioN/kde_results/cande_kde_25.0_associative_accuracy.txt\",sep=\"\\t\")\n",
    "\n",
    "kde_arr = np.array(ast.literal_eval(bayes_kde[\"MRE\"].values[0]))\n",
    "kde_arr"
   ]
  },
  {
   "cell_type": "code",
   "execution_count": null,
   "id": "22312734",
   "metadata": {},
   "outputs": [],
   "source": [
    "files = [\"kde_mle900b.txt\", \"kde_tbl_mres900_100.txt\", \"kde_sample_mres900.txt\"]\n",
    "\n",
    "datasets = [\"enronN\"]\n",
    "display_names = [\"Gamma\",\"CanDE-P\", \"CanDE-I\", \"Random Sample\",  \"HBS\"]\n",
    "exp_path = \"/media/mydrive/distribution/ann-codes/in-memory/EXPERIMENTS/\"\n",
    "\n",
    "import os\n",
    "for dataset in datasets:\n",
    "    result = []\n",
    "    cur_path = os.path.join(exp_path, dataset)\n",
    "    for fname in files:\n",
    "        read_data(os.path.join(cur_path, fname), result)\n",
    "    read_data2(os.path.join(cur_path, \"kde/hbe900_mres_v2.txt\"), result)\n",
    "    final_results = pd.DataFrame(columns = display_names)\n",
    "    final_results[display_names[0]] = result[0][0]\n",
    "    for i in range(4):\n",
    "        final_results[display_names[i+1]] = result[i][1]\n",
    "    \n",
    "    bayes_mre = []\n",
    "    bayes_kde = pd.read_csv(\"/media/mydrive/distribution/ann-codes/in-memory/EXPERIMENTS/{}/kde_results/cande_kde_100.0_associative_accuracy.txt\".format(dataset),sep=\"\\t\")\n",
    "\n",
    "    kde_arr = np.array(ast.literal_eval(bayes_kde[\"MRE\"].values[0]))\n",
    "    final_results[\"CanDE-I\"] = kde_arr\n",
    "    final_results.to_csv(\"/media/mydrive/distribution/ann-codes/in-memory/EXPERIMENTS/kde_plot_results/\"+dataset+\"_bayes.csv\",index=False)\n",
    "    #print(dataset, result)"
   ]
  },
  {
   "cell_type": "code",
   "execution_count": 21,
   "id": "6febbeed",
   "metadata": {},
   "outputs": [],
   "source": [
    "files = [\"kde_mle900b.txt\", \"kde_tbl_mres900_100.txt\", \"kde_sample_mres900.txt\"]\n",
    "\n",
    "datasets = [\"audioN\", \"mnistN\", \"treviN\"]\n",
    "display_names = [\"Gamma\",\"CanDE-P\", \"CanDE-I\", \"Random Sample\",  \"HBS\"]\n",
    "exp_path = \"/media/mydrive/distribution/ann-codes/in-memory/EXPERIMENTS/\"\n",
    "\n",
    "import os\n",
    "for dataset in datasets:\n",
    "    result = []\n",
    "    cur_path = os.path.join(exp_path, dataset)\n",
    "    for fname in files:\n",
    "        read_data(os.path.join(cur_path, fname), result)\n",
    "    read_data2(os.path.join(cur_path, \"kde/hbe900_mres_v2.txt\"), result)\n",
    "    final_results = pd.DataFrame(columns = display_names)\n",
    "    final_results[display_names[0]] = result[0][0]\n",
    "    for i in range(4):\n",
    "        final_results[display_names[i+1]] = result[i][1]\n",
    "    \n",
    "    bayes_mre = []\n",
    "    bayes_kde = pd.read_csv(\"/media/mydrive/distribution/ann-codes/in-memory/EXPERIMENTS/{}/kde_results/cande_kde_25.0_associative_accuracy.txt\".format(dataset),sep=\"\\t\")\n",
    "\n",
    "    kde_arr = np.array(ast.literal_eval(bayes_kde[\"MRE\"].values[0]))\n",
    "    final_results[\"CanDE-I\"] = kde_arr\n",
    "    final_results.to_csv(\"/media/mydrive/distribution/ann-codes/in-memory/EXPERIMENTS/kde_plot_results/\"+dataset+\"_bayes.csv\",index=False)\n",
    "    #print(dataset, result)"
   ]
  },
  {
   "cell_type": "code",
   "execution_count": 23,
   "id": "b5471df8",
   "metadata": {},
   "outputs": [],
   "source": [
    "files = [\"mre_precomp900.txt\", \"mre_infer900.txt\", \"kde_sample_mres900.txt\"]\n",
    "\n",
    "datasets = [\"deepN\", \"siftN\"]\n",
    "display_names = [\"Gamma\",\"CanDE-P\", \"CanDE-I\", \"Random Sample\",  \"HBS\"]\n",
    "exp_path = \"/media/mydrive/distribution/ann-codes/in-memory/EXPERIMENTS/\"\n",
    "\n",
    "import os\n",
    "for dataset in datasets:\n",
    "    result = []\n",
    "    cur_path = os.path.join(exp_path, dataset)\n",
    "    for fname in files:\n",
    "        read_data(os.path.join(cur_path, fname), result)\n",
    "    read_data2(os.path.join(cur_path, \"kde/hbe900_mres_v2.txt\"), result)\n",
    "    final_results = pd.DataFrame(columns = display_names)\n",
    "    final_results[display_names[0]] = result[0][0]\n",
    "    for i in range(4):\n",
    "        final_results[display_names[i+1]] = result[i][1]\n",
    "    \n",
    "    bayes_mre = []\n",
    "        \n",
    "    bayes_kde = pd.read_csv(\"/media/mydrive/distribution/ann-codes/in-memory/EXPERIMENTS/{}/kde_results/cande_kde_25.0_associative_accuracy.txt\".format(dataset),sep=\"\\t\")\n",
    "\n",
    "    kde_arr = np.array(ast.literal_eval(bayes_kde[\"MRE\"].values[0]))\n",
    "    final_results[\"CanDE-I\"] = kde_arr\n",
    "    final_results.to_csv(\"/media/mydrive/distribution/ann-codes/in-memory/EXPERIMENTS/kde_plot_results/\"+dataset+\"_bayes.csv\",index=False)"
   ]
  },
  {
   "cell_type": "code",
   "execution_count": 25,
   "id": "c7b2b767",
   "metadata": {},
   "outputs": [],
   "source": [
    "files = [\"kde_mle800b.txt\", \"kde_tbl_mres800_100.txt\", \"kde_sample_mres800.txt\"]\n",
    "\n",
    "datasets = [\"gloveN\", \"gistN\"]\n",
    "display_names = [\"Gamma\",\"CanDE-P\", \"CanDE-I\", \"Random Sample\", \"HBS\"]\n",
    "exp_path = \"/media/mydrive/distribution/ann-codes/in-memory/EXPERIMENTS/\"\n",
    "\n",
    "import os\n",
    "for dataset in datasets:\n",
    "    result = []\n",
    "    cur_path = os.path.join(exp_path, dataset)\n",
    "    for fname in files:\n",
    "        read_data(os.path.join(cur_path, fname), result)\n",
    "    read_data2(os.path.join(cur_path, \"kde/hbe800_mres_v2.txt\"), result)\n",
    "    final_results = pd.DataFrame(columns = display_names)\n",
    "    final_results[display_names[0]] = result[0][0]\n",
    "    for i in range(4):\n",
    "        final_results[display_names[i+1]] = result[i][1]\n",
    "    \n",
    "    bayes_mre = []\n",
    "        \n",
    "    bayes_kde = pd.read_csv(\"/media/mydrive/distribution/ann-codes/in-memory/EXPERIMENTS/{}/kde_results/cande_kde_25.0_associative_accuracy.txt\".format(dataset),sep=\"\\t\")\n",
    "\n",
    "    kde_arr = np.array(ast.literal_eval(bayes_kde[\"MRE\"].values[0]))\n",
    "    final_results[\"CanDE-I\"] = kde_arr\n",
    "    final_results.to_csv(\"/media/mydrive/distribution/ann-codes/in-memory/EXPERIMENTS/kde_plot_results/\"+dataset+\"_bayes.csv\",index=False)"
   ]
  },
  {
   "cell_type": "code",
   "execution_count": null,
   "id": "4b7b3e6c",
   "metadata": {},
   "outputs": [],
   "source": []
  }
 ],
 "metadata": {
  "kernelspec": {
   "display_name": "Python 3",
   "language": "python",
   "name": "python3"
  },
  "language_info": {
   "codemirror_mode": {
    "name": "ipython",
    "version": 3
   },
   "file_extension": ".py",
   "mimetype": "text/x-python",
   "name": "python",
   "nbconvert_exporter": "python",
   "pygments_lexer": "ipython3",
   "version": "3.9.7"
  },
  "vscode": {
   "interpreter": {
    "hash": "99f12870cbcc9ed8002e6786f6ad5b3d26a9d22e686c10367ab33bcbed1232a0"
   }
  }
 },
 "nbformat": 4,
 "nbformat_minor": 5
}
